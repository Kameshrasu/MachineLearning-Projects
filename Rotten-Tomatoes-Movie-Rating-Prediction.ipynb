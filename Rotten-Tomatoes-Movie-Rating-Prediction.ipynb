{
 "cells": [
  {
   "cell_type": "markdown",
   "metadata": {},
   "source": [
    " # <span style=\"color:red; font-weight:bold;\">Rotten Tomatoes Models</span>\n",
    " \n"
   ]
  },
  {
   "cell_type": "markdown",
   "metadata": {},
   "source": [
    " # <span style=\"color:GREEN; font-weight:bold;\">Import The Necessary Library</span>\n",
    " \n"
   ]
  },
  {
   "cell_type": "code",
   "execution_count": 287,
   "metadata": {
    "execution": {
     "iopub.execute_input": "2024-12-19T08:40:21.965368Z",
     "iopub.status.busy": "2024-12-19T08:40:21.963934Z",
     "iopub.status.idle": "2024-12-19T08:40:21.978742Z",
     "shell.execute_reply": "2024-12-19T08:40:21.976749Z",
     "shell.execute_reply.started": "2024-12-19T08:40:21.965292Z"
    },
    "trusted": true
   },
   "outputs": [],
   "source": [
    "import pandas as pd\n",
    "import nltk\n",
    "import re\n",
    "from sklearn.feature_extraction.text import TfidfVectorizer\n",
    "from nltk.corpus import stopwords\n",
    "from nltk.stem import WordNetLemmatizer\n",
    "from nltk.tokenize import word_tokenize\n",
    "from nltk.stem import PorterStemmer\n",
    "from sklearn.model_selection import train_test_split\n",
    "from sklearn.preprocessing import StandardScaler\n",
    "from sklearn.ensemble import RandomForestRegressor\n",
    "from sklearn.linear_model import LinearRegression\n",
    "from sklearn.metrics import mean_squared_error\n",
    "from xgboost import XGBRegressor\n",
    "from sklearn.linear_model import BayesianRidge\n",
    "from sklearn.pipeline import Pipeline\n",
    "import matplotlib.pyplot as plt\n",
    "import seaborn as sns\n",
    "from sklearn.metrics import r2_score\n",
    "import warnings\n",
    "warnings.filterwarnings(\"ignore\")\n",
    "\n",
    "\n"
   ]
  },
  {
   "cell_type": "markdown",
   "metadata": {},
   "source": [
    " # <span style=\"color:GREEN; font-weight:bold;\">Load The Data</span>\n"
   ]
  },
  {
   "cell_type": "code",
   "execution_count": 288,
   "metadata": {
    "execution": {
     "iopub.execute_input": "2024-12-19T08:40:21.982455Z",
     "iopub.status.busy": "2024-12-19T08:40:21.981678Z",
     "iopub.status.idle": "2024-12-19T08:40:22.527163Z",
     "shell.execute_reply": "2024-12-19T08:40:22.525964Z",
     "shell.execute_reply.started": "2024-12-19T08:40:21.982383Z"
    },
    "trusted": true
   },
   "outputs": [
    {
     "data": {
      "text/html": [
       "<div>\n",
       "<style scoped>\n",
       "    .dataframe tbody tr th:only-of-type {\n",
       "        vertical-align: middle;\n",
       "    }\n",
       "\n",
       "    .dataframe tbody tr th {\n",
       "        vertical-align: top;\n",
       "    }\n",
       "\n",
       "    .dataframe thead th {\n",
       "        text-align: right;\n",
       "    }\n",
       "</style>\n",
       "<table border=\"1\" class=\"dataframe\">\n",
       "  <thead>\n",
       "    <tr style=\"text-align: right;\">\n",
       "      <th></th>\n",
       "      <th>movie_title</th>\n",
       "      <th>movie_info</th>\n",
       "      <th>critics_consensus</th>\n",
       "      <th>rating</th>\n",
       "      <th>genre</th>\n",
       "      <th>directors</th>\n",
       "      <th>writers</th>\n",
       "      <th>cast</th>\n",
       "      <th>in_theaters_date</th>\n",
       "      <th>on_streaming_date</th>\n",
       "      <th>runtime_in_minutes</th>\n",
       "      <th>studio_name</th>\n",
       "      <th>tomatometer_status</th>\n",
       "      <th>tomatometer_rating</th>\n",
       "      <th>tomatometer_count</th>\n",
       "      <th>audience_rating</th>\n",
       "    </tr>\n",
       "  </thead>\n",
       "  <tbody>\n",
       "    <tr>\n",
       "      <th>0</th>\n",
       "      <td>Percy Jackson &amp; the Olympians: The Lightning T...</td>\n",
       "      <td>A teenager discovers he's the descendant of a ...</td>\n",
       "      <td>Though it may seem like just another Harry Pot...</td>\n",
       "      <td>PG</td>\n",
       "      <td>Action &amp; Adventure, Comedy, Drama, Science Fic...</td>\n",
       "      <td>Chris Columbus</td>\n",
       "      <td>Craig Titley</td>\n",
       "      <td>Logan Lerman, Brandon T. Jackson, Alexandra Da...</td>\n",
       "      <td>12-02-2010</td>\n",
       "      <td>29-06-2010</td>\n",
       "      <td>83.0</td>\n",
       "      <td>20th Century Fox</td>\n",
       "      <td>Rotten</td>\n",
       "      <td>49</td>\n",
       "      <td>144</td>\n",
       "      <td>53.0</td>\n",
       "    </tr>\n",
       "    <tr>\n",
       "      <th>1</th>\n",
       "      <td>Please Give</td>\n",
       "      <td>Kate has a lot on her mind. There's the ethics...</td>\n",
       "      <td>Nicole Holofcener's newest might seem slight i...</td>\n",
       "      <td>R</td>\n",
       "      <td>Comedy</td>\n",
       "      <td>Nicole Holofcener</td>\n",
       "      <td>Nicole Holofcener</td>\n",
       "      <td>Catherine Keener, Amanda Peet, Oliver Platt, R...</td>\n",
       "      <td>30-04-2010</td>\n",
       "      <td>19-10-2010</td>\n",
       "      <td>90.0</td>\n",
       "      <td>Sony Pictures Classics</td>\n",
       "      <td>Certified Fresh</td>\n",
       "      <td>86</td>\n",
       "      <td>140</td>\n",
       "      <td>64.0</td>\n",
       "    </tr>\n",
       "    <tr>\n",
       "      <th>2</th>\n",
       "      <td>10</td>\n",
       "      <td>Blake Edwards' 10 stars Dudley Moore as George...</td>\n",
       "      <td>NaN</td>\n",
       "      <td>R</td>\n",
       "      <td>Comedy, Romance</td>\n",
       "      <td>Blake Edwards</td>\n",
       "      <td>Blake Edwards</td>\n",
       "      <td>Dudley Moore, Bo Derek, Julie Andrews, Robert ...</td>\n",
       "      <td>05-10-1979</td>\n",
       "      <td>27-08-1997</td>\n",
       "      <td>118.0</td>\n",
       "      <td>Waner Bros.</td>\n",
       "      <td>Fresh</td>\n",
       "      <td>68</td>\n",
       "      <td>22</td>\n",
       "      <td>53.0</td>\n",
       "    </tr>\n",
       "    <tr>\n",
       "      <th>3</th>\n",
       "      <td>12 Angry Men (Twelve Angry Men)</td>\n",
       "      <td>A Puerto Rican youth is on trial for murder, a...</td>\n",
       "      <td>Sidney Lumet's feature debut is a superbly wri...</td>\n",
       "      <td>NR</td>\n",
       "      <td>Classics, Drama</td>\n",
       "      <td>Sidney Lumet</td>\n",
       "      <td>Reginald Rose</td>\n",
       "      <td>Martin Balsam, John Fiedler, Lee J. Cobb, E.G....</td>\n",
       "      <td>13-04-1957</td>\n",
       "      <td>06-03-2001</td>\n",
       "      <td>95.0</td>\n",
       "      <td>Criterion Collection</td>\n",
       "      <td>Certified Fresh</td>\n",
       "      <td>100</td>\n",
       "      <td>51</td>\n",
       "      <td>97.0</td>\n",
       "    </tr>\n",
       "    <tr>\n",
       "      <th>4</th>\n",
       "      <td>20,000 Leagues Under The Sea</td>\n",
       "      <td>This 1954 Disney version of Jules Verne's 20,0...</td>\n",
       "      <td>One of Disney's finest live-action adventures,...</td>\n",
       "      <td>G</td>\n",
       "      <td>Action &amp; Adventure, Drama, Kids &amp; Family</td>\n",
       "      <td>Richard Fleischer</td>\n",
       "      <td>Earl Felton</td>\n",
       "      <td>James Mason, Kirk Douglas, Paul Lukas, Peter L...</td>\n",
       "      <td>01-01-1954</td>\n",
       "      <td>20-05-2003</td>\n",
       "      <td>127.0</td>\n",
       "      <td>Disney</td>\n",
       "      <td>Fresh</td>\n",
       "      <td>89</td>\n",
       "      <td>27</td>\n",
       "      <td>74.0</td>\n",
       "    </tr>\n",
       "    <tr>\n",
       "      <th>...</th>\n",
       "      <td>...</td>\n",
       "      <td>...</td>\n",
       "      <td>...</td>\n",
       "      <td>...</td>\n",
       "      <td>...</td>\n",
       "      <td>...</td>\n",
       "      <td>...</td>\n",
       "      <td>...</td>\n",
       "      <td>...</td>\n",
       "      <td>...</td>\n",
       "      <td>...</td>\n",
       "      <td>...</td>\n",
       "      <td>...</td>\n",
       "      <td>...</td>\n",
       "      <td>...</td>\n",
       "      <td>...</td>\n",
       "    </tr>\n",
       "    <tr>\n",
       "      <th>16633</th>\n",
       "      <td>Zoot Suit</td>\n",
       "      <td>Based on a 1940s Los Angeles murder trial, thi...</td>\n",
       "      <td>NaN</td>\n",
       "      <td>R</td>\n",
       "      <td>Drama, Musical &amp; Performing Arts</td>\n",
       "      <td>Luis Valdez</td>\n",
       "      <td>Luis Valdez</td>\n",
       "      <td>Daniel Valdez, Edward James Olmos, Charles Aid...</td>\n",
       "      <td>02-10-1981</td>\n",
       "      <td>27-05-2003</td>\n",
       "      <td>104.0</td>\n",
       "      <td>MCA Universal Home Video</td>\n",
       "      <td>Rotten</td>\n",
       "      <td>56</td>\n",
       "      <td>9</td>\n",
       "      <td>74.0</td>\n",
       "    </tr>\n",
       "    <tr>\n",
       "      <th>16634</th>\n",
       "      <td>Zootopia</td>\n",
       "      <td>The modern mammal metropolis of Zootopia is a ...</td>\n",
       "      <td>The brilliantly well-rounded Zootopia offers a...</td>\n",
       "      <td>PG</td>\n",
       "      <td>Action &amp; Adventure, Animation, Comedy</td>\n",
       "      <td>Byron Howard, Rich Moore, Jared Bush</td>\n",
       "      <td>Jared Bush, Phil Johnston</td>\n",
       "      <td>Ginnifer Goodwin, Jason Bateman, Idris Elba, J...</td>\n",
       "      <td>04-03-2016</td>\n",
       "      <td>07-06-2016</td>\n",
       "      <td>108.0</td>\n",
       "      <td>Walt Disney Animation Studios</td>\n",
       "      <td>Certified Fresh</td>\n",
       "      <td>97</td>\n",
       "      <td>279</td>\n",
       "      <td>92.0</td>\n",
       "    </tr>\n",
       "    <tr>\n",
       "      <th>16635</th>\n",
       "      <td>Zorba the Greek</td>\n",
       "      <td>If ever there was a role that Anthony Quinn wa...</td>\n",
       "      <td>NaN</td>\n",
       "      <td>NR</td>\n",
       "      <td>Action &amp; Adventure, Art House &amp; International,...</td>\n",
       "      <td>NaN</td>\n",
       "      <td>NaN</td>\n",
       "      <td>Anthony Quinn, Alan Bates, Irene Papas, Lila K...</td>\n",
       "      <td>17-12-1964</td>\n",
       "      <td>03-08-2004</td>\n",
       "      <td>142.0</td>\n",
       "      <td>Fox</td>\n",
       "      <td>Fresh</td>\n",
       "      <td>78</td>\n",
       "      <td>9</td>\n",
       "      <td>87.0</td>\n",
       "    </tr>\n",
       "    <tr>\n",
       "      <th>16636</th>\n",
       "      <td>Zulu</td>\n",
       "      <td>Filmed on a grand scale, Zulu is a rousing rec...</td>\n",
       "      <td>NaN</td>\n",
       "      <td>PG</td>\n",
       "      <td>Classics, Drama</td>\n",
       "      <td>Cy Endfield, Cyril Endfield</td>\n",
       "      <td>Cy Endfield, John Prebble</td>\n",
       "      <td>Stanley Baker, Jack Hawkins, Ulla Jacobsson, J...</td>\n",
       "      <td>17-06-1964</td>\n",
       "      <td>02-02-2001</td>\n",
       "      <td>139.0</td>\n",
       "      <td>Paramount Pictures</td>\n",
       "      <td>Fresh</td>\n",
       "      <td>95</td>\n",
       "      <td>21</td>\n",
       "      <td>91.0</td>\n",
       "    </tr>\n",
       "    <tr>\n",
       "      <th>16637</th>\n",
       "      <td>Zulu Dawn</td>\n",
       "      <td>A prequel to Zulu, Zulu Dawn depicts the event...</td>\n",
       "      <td>NaN</td>\n",
       "      <td>PG</td>\n",
       "      <td>Action &amp; Adventure, Art House &amp; International,...</td>\n",
       "      <td>Douglas Hickox</td>\n",
       "      <td>Cy Endfield, Anthony Storey</td>\n",
       "      <td>Burt Lancaster, Peter O'Toole, Simon Ward, Joh...</td>\n",
       "      <td>14-12-1979</td>\n",
       "      <td>27-09-2005</td>\n",
       "      <td>117.0</td>\n",
       "      <td>Tango Entertainment</td>\n",
       "      <td>Rotten</td>\n",
       "      <td>57</td>\n",
       "      <td>7</td>\n",
       "      <td>62.0</td>\n",
       "    </tr>\n",
       "  </tbody>\n",
       "</table>\n",
       "<p>16638 rows × 16 columns</p>\n",
       "</div>"
      ],
      "text/plain": [
       "                                             movie_title  \\\n",
       "0      Percy Jackson & the Olympians: The Lightning T...   \n",
       "1                                            Please Give   \n",
       "2                                                     10   \n",
       "3                        12 Angry Men (Twelve Angry Men)   \n",
       "4                           20,000 Leagues Under The Sea   \n",
       "...                                                  ...   \n",
       "16633                                          Zoot Suit   \n",
       "16634                                           Zootopia   \n",
       "16635                                    Zorba the Greek   \n",
       "16636                                               Zulu   \n",
       "16637                                          Zulu Dawn   \n",
       "\n",
       "                                              movie_info  \\\n",
       "0      A teenager discovers he's the descendant of a ...   \n",
       "1      Kate has a lot on her mind. There's the ethics...   \n",
       "2      Blake Edwards' 10 stars Dudley Moore as George...   \n",
       "3      A Puerto Rican youth is on trial for murder, a...   \n",
       "4      This 1954 Disney version of Jules Verne's 20,0...   \n",
       "...                                                  ...   \n",
       "16633  Based on a 1940s Los Angeles murder trial, thi...   \n",
       "16634  The modern mammal metropolis of Zootopia is a ...   \n",
       "16635  If ever there was a role that Anthony Quinn wa...   \n",
       "16636  Filmed on a grand scale, Zulu is a rousing rec...   \n",
       "16637  A prequel to Zulu, Zulu Dawn depicts the event...   \n",
       "\n",
       "                                       critics_consensus rating  \\\n",
       "0      Though it may seem like just another Harry Pot...     PG   \n",
       "1      Nicole Holofcener's newest might seem slight i...      R   \n",
       "2                                                    NaN      R   \n",
       "3      Sidney Lumet's feature debut is a superbly wri...     NR   \n",
       "4      One of Disney's finest live-action adventures,...      G   \n",
       "...                                                  ...    ...   \n",
       "16633                                                NaN      R   \n",
       "16634  The brilliantly well-rounded Zootopia offers a...     PG   \n",
       "16635                                                NaN     NR   \n",
       "16636                                                NaN     PG   \n",
       "16637                                                NaN     PG   \n",
       "\n",
       "                                                   genre  \\\n",
       "0      Action & Adventure, Comedy, Drama, Science Fic...   \n",
       "1                                                 Comedy   \n",
       "2                                        Comedy, Romance   \n",
       "3                                        Classics, Drama   \n",
       "4               Action & Adventure, Drama, Kids & Family   \n",
       "...                                                  ...   \n",
       "16633                   Drama, Musical & Performing Arts   \n",
       "16634              Action & Adventure, Animation, Comedy   \n",
       "16635  Action & Adventure, Art House & International,...   \n",
       "16636                                    Classics, Drama   \n",
       "16637  Action & Adventure, Art House & International,...   \n",
       "\n",
       "                                  directors                      writers  \\\n",
       "0                            Chris Columbus                 Craig Titley   \n",
       "1                         Nicole Holofcener            Nicole Holofcener   \n",
       "2                             Blake Edwards                Blake Edwards   \n",
       "3                              Sidney Lumet                Reginald Rose   \n",
       "4                         Richard Fleischer                  Earl Felton   \n",
       "...                                     ...                          ...   \n",
       "16633                           Luis Valdez                  Luis Valdez   \n",
       "16634  Byron Howard, Rich Moore, Jared Bush    Jared Bush, Phil Johnston   \n",
       "16635                                   NaN                          NaN   \n",
       "16636           Cy Endfield, Cyril Endfield    Cy Endfield, John Prebble   \n",
       "16637                        Douglas Hickox  Cy Endfield, Anthony Storey   \n",
       "\n",
       "                                                    cast in_theaters_date  \\\n",
       "0      Logan Lerman, Brandon T. Jackson, Alexandra Da...       12-02-2010   \n",
       "1      Catherine Keener, Amanda Peet, Oliver Platt, R...       30-04-2010   \n",
       "2      Dudley Moore, Bo Derek, Julie Andrews, Robert ...       05-10-1979   \n",
       "3      Martin Balsam, John Fiedler, Lee J. Cobb, E.G....       13-04-1957   \n",
       "4      James Mason, Kirk Douglas, Paul Lukas, Peter L...       01-01-1954   \n",
       "...                                                  ...              ...   \n",
       "16633  Daniel Valdez, Edward James Olmos, Charles Aid...       02-10-1981   \n",
       "16634  Ginnifer Goodwin, Jason Bateman, Idris Elba, J...       04-03-2016   \n",
       "16635  Anthony Quinn, Alan Bates, Irene Papas, Lila K...       17-12-1964   \n",
       "16636  Stanley Baker, Jack Hawkins, Ulla Jacobsson, J...       17-06-1964   \n",
       "16637  Burt Lancaster, Peter O'Toole, Simon Ward, Joh...       14-12-1979   \n",
       "\n",
       "      on_streaming_date  runtime_in_minutes                    studio_name  \\\n",
       "0            29-06-2010                83.0               20th Century Fox   \n",
       "1            19-10-2010                90.0         Sony Pictures Classics   \n",
       "2            27-08-1997               118.0                    Waner Bros.   \n",
       "3            06-03-2001                95.0           Criterion Collection   \n",
       "4            20-05-2003               127.0                         Disney   \n",
       "...                 ...                 ...                            ...   \n",
       "16633        27-05-2003               104.0       MCA Universal Home Video   \n",
       "16634        07-06-2016               108.0  Walt Disney Animation Studios   \n",
       "16635        03-08-2004               142.0                            Fox   \n",
       "16636        02-02-2001               139.0             Paramount Pictures   \n",
       "16637        27-09-2005               117.0            Tango Entertainment   \n",
       "\n",
       "      tomatometer_status  tomatometer_rating  tomatometer_count  \\\n",
       "0                 Rotten                  49                144   \n",
       "1        Certified Fresh                  86                140   \n",
       "2                  Fresh                  68                 22   \n",
       "3        Certified Fresh                 100                 51   \n",
       "4                  Fresh                  89                 27   \n",
       "...                  ...                 ...                ...   \n",
       "16633             Rotten                  56                  9   \n",
       "16634    Certified Fresh                  97                279   \n",
       "16635              Fresh                  78                  9   \n",
       "16636              Fresh                  95                 21   \n",
       "16637             Rotten                  57                  7   \n",
       "\n",
       "       audience_rating  \n",
       "0                 53.0  \n",
       "1                 64.0  \n",
       "2                 53.0  \n",
       "3                 97.0  \n",
       "4                 74.0  \n",
       "...                ...  \n",
       "16633             74.0  \n",
       "16634             92.0  \n",
       "16635             87.0  \n",
       "16636             91.0  \n",
       "16637             62.0  \n",
       "\n",
       "[16638 rows x 16 columns]"
      ]
     },
     "execution_count": 288,
     "metadata": {},
     "output_type": "execute_result"
    }
   ],
   "source": [
    "df=pd.read_csv(\"/kaggle/input/dataset-zoho/Rotten_Tomatoes_Movies3 - Copy.csv\")\n",
    "df"
   ]
  },
  {
   "cell_type": "markdown",
   "metadata": {},
   "source": [
    " # <span style=\"color:GREEN; font-weight:bold;\">Data Preprocessing</span>\n"
   ]
  },
  {
   "cell_type": "code",
   "execution_count": 289,
   "metadata": {
    "execution": {
     "iopub.execute_input": "2024-12-19T08:40:22.528686Z",
     "iopub.status.busy": "2024-12-19T08:40:22.528333Z",
     "iopub.status.idle": "2024-12-19T08:40:22.537748Z",
     "shell.execute_reply": "2024-12-19T08:40:22.536546Z",
     "shell.execute_reply.started": "2024-12-19T08:40:22.528626Z"
    },
    "trusted": true
   },
   "outputs": [
    {
     "data": {
      "text/plain": [
       "movie_title            object\n",
       "movie_info             object\n",
       "critics_consensus      object\n",
       "rating                 object\n",
       "genre                  object\n",
       "directors              object\n",
       "writers                object\n",
       "cast                   object\n",
       "in_theaters_date       object\n",
       "on_streaming_date      object\n",
       "runtime_in_minutes    float64\n",
       "studio_name            object\n",
       "tomatometer_status     object\n",
       "tomatometer_rating      int64\n",
       "tomatometer_count       int64\n",
       "audience_rating       float64\n",
       "dtype: object"
      ]
     },
     "execution_count": 289,
     "metadata": {},
     "output_type": "execute_result"
    }
   ],
   "source": [
    "df.dtypes"
   ]
  },
  {
   "cell_type": "code",
   "execution_count": 290,
   "metadata": {
    "execution": {
     "iopub.execute_input": "2024-12-19T08:40:22.541405Z",
     "iopub.status.busy": "2024-12-19T08:40:22.541038Z",
     "iopub.status.idle": "2024-12-19T08:40:22.569233Z",
     "shell.execute_reply": "2024-12-19T08:40:22.568075Z",
     "shell.execute_reply.started": "2024-12-19T08:40:22.541370Z"
    },
    "trusted": true
   },
   "outputs": [
    {
     "data": {
      "text/plain": [
       "movie_title              0\n",
       "movie_info              24\n",
       "critics_consensus     8329\n",
       "rating                   0\n",
       "genre                   17\n",
       "directors              114\n",
       "writers               1349\n",
       "cast                   284\n",
       "in_theaters_date       815\n",
       "on_streaming_date        2\n",
       "runtime_in_minutes     155\n",
       "studio_name            416\n",
       "tomatometer_status       0\n",
       "tomatometer_rating       0\n",
       "tomatometer_count        0\n",
       "audience_rating        252\n",
       "dtype: int64"
      ]
     },
     "execution_count": 290,
     "metadata": {},
     "output_type": "execute_result"
    }
   ],
   "source": [
    "df.isnull().sum()"
   ]
  },
  {
   "cell_type": "code",
   "execution_count": 291,
   "metadata": {
    "execution": {
     "iopub.execute_input": "2024-12-19T08:40:22.571042Z",
     "iopub.status.busy": "2024-12-19T08:40:22.570623Z",
     "iopub.status.idle": "2024-12-19T08:40:22.638356Z",
     "shell.execute_reply": "2024-12-19T08:40:22.636690Z",
     "shell.execute_reply.started": "2024-12-19T08:40:22.571006Z"
    },
    "trusted": true
   },
   "outputs": [
    {
     "data": {
      "text/plain": [
       "movie_title           16106\n",
       "movie_info            16613\n",
       "critics_consensus      8307\n",
       "rating                    8\n",
       "genre                  1080\n",
       "directors              8314\n",
       "writers               12121\n",
       "cast                  16326\n",
       "in_theaters_date       5586\n",
       "on_streaming_date      2260\n",
       "runtime_in_minutes      201\n",
       "studio_name            2886\n",
       "tomatometer_status        3\n",
       "tomatometer_rating      101\n",
       "tomatometer_count       393\n",
       "audience_rating          98\n",
       "dtype: int64"
      ]
     },
     "execution_count": 291,
     "metadata": {},
     "output_type": "execute_result"
    }
   ],
   "source": [
    "df.nunique()"
   ]
  },
  {
   "cell_type": "code",
   "execution_count": 292,
   "metadata": {
    "execution": {
     "iopub.execute_input": "2024-12-19T08:40:22.640234Z",
     "iopub.status.busy": "2024-12-19T08:40:22.639896Z",
     "iopub.status.idle": "2024-12-19T08:40:22.672345Z",
     "shell.execute_reply": "2024-12-19T08:40:22.670516Z",
     "shell.execute_reply.started": "2024-12-19T08:40:22.640200Z"
    },
    "trusted": true
   },
   "outputs": [
    {
     "data": {
      "text/html": [
       "<div>\n",
       "<style scoped>\n",
       "    .dataframe tbody tr th:only-of-type {\n",
       "        vertical-align: middle;\n",
       "    }\n",
       "\n",
       "    .dataframe tbody tr th {\n",
       "        vertical-align: top;\n",
       "    }\n",
       "\n",
       "    .dataframe thead th {\n",
       "        text-align: right;\n",
       "    }\n",
       "</style>\n",
       "<table border=\"1\" class=\"dataframe\">\n",
       "  <thead>\n",
       "    <tr style=\"text-align: right;\">\n",
       "      <th></th>\n",
       "      <th>runtime_in_minutes</th>\n",
       "      <th>tomatometer_rating</th>\n",
       "      <th>tomatometer_count</th>\n",
       "      <th>audience_rating</th>\n",
       "    </tr>\n",
       "  </thead>\n",
       "  <tbody>\n",
       "    <tr>\n",
       "      <th>count</th>\n",
       "      <td>16483.000000</td>\n",
       "      <td>16638.000000</td>\n",
       "      <td>16638.000000</td>\n",
       "      <td>16386.000000</td>\n",
       "    </tr>\n",
       "    <tr>\n",
       "      <th>mean</th>\n",
       "      <td>102.391494</td>\n",
       "      <td>60.466522</td>\n",
       "      <td>56.607104</td>\n",
       "      <td>60.470829</td>\n",
       "    </tr>\n",
       "    <tr>\n",
       "      <th>std</th>\n",
       "      <td>25.028011</td>\n",
       "      <td>28.587230</td>\n",
       "      <td>66.383800</td>\n",
       "      <td>20.462368</td>\n",
       "    </tr>\n",
       "    <tr>\n",
       "      <th>min</th>\n",
       "      <td>1.000000</td>\n",
       "      <td>0.000000</td>\n",
       "      <td>5.000000</td>\n",
       "      <td>0.000000</td>\n",
       "    </tr>\n",
       "    <tr>\n",
       "      <th>25%</th>\n",
       "      <td>90.000000</td>\n",
       "      <td>38.000000</td>\n",
       "      <td>12.000000</td>\n",
       "      <td>45.000000</td>\n",
       "    </tr>\n",
       "    <tr>\n",
       "      <th>50%</th>\n",
       "      <td>99.000000</td>\n",
       "      <td>66.000000</td>\n",
       "      <td>28.000000</td>\n",
       "      <td>62.000000</td>\n",
       "    </tr>\n",
       "    <tr>\n",
       "      <th>75%</th>\n",
       "      <td>111.000000</td>\n",
       "      <td>86.000000</td>\n",
       "      <td>76.000000</td>\n",
       "      <td>77.000000</td>\n",
       "    </tr>\n",
       "    <tr>\n",
       "      <th>max</th>\n",
       "      <td>2000.000000</td>\n",
       "      <td>100.000000</td>\n",
       "      <td>497.000000</td>\n",
       "      <td>100.000000</td>\n",
       "    </tr>\n",
       "  </tbody>\n",
       "</table>\n",
       "</div>"
      ],
      "text/plain": [
       "       runtime_in_minutes  tomatometer_rating  tomatometer_count  \\\n",
       "count        16483.000000        16638.000000       16638.000000   \n",
       "mean           102.391494           60.466522          56.607104   \n",
       "std             25.028011           28.587230          66.383800   \n",
       "min              1.000000            0.000000           5.000000   \n",
       "25%             90.000000           38.000000          12.000000   \n",
       "50%             99.000000           66.000000          28.000000   \n",
       "75%            111.000000           86.000000          76.000000   \n",
       "max           2000.000000          100.000000         497.000000   \n",
       "\n",
       "       audience_rating  \n",
       "count     16386.000000  \n",
       "mean         60.470829  \n",
       "std          20.462368  \n",
       "min           0.000000  \n",
       "25%          45.000000  \n",
       "50%          62.000000  \n",
       "75%          77.000000  \n",
       "max         100.000000  "
      ]
     },
     "execution_count": 292,
     "metadata": {},
     "output_type": "execute_result"
    }
   ],
   "source": [
    "df.describe()"
   ]
  },
  {
   "cell_type": "markdown",
   "metadata": {},
   "source": [
    "## Dropped Columns and Reasons\n",
    "\n",
    "1. **`movie_title`**  \n",
    "   - **Reason**: The movie title is just a label and doesn’t help predict the audience rating. Removing it makes the model simpler and more efficient.\n",
    "\n",
    "2. **`movie_info`**  \n",
    "   - **Reason**: This column likely contains general information that doesn’t directly impact the prediction of the audience rating. Removing it reduces unnecessary complexity.\n",
    "\n",
    "3. **`critics_consensus`**  \n",
    "   - **Reason**: This column contains **8,329 missing values**. Imputing these values could lead to inaccuracies, as the imputed values might not align with the true nature of the data, which would negatively impact model performance.\n",
    "\n",
    "4. **`cast`**  \n",
    "   - **Reason**: The `cast` column has **many unique values**, making it challenging for the model to extract meaningful patterns. Dropping it reduces model complexity and helps focus on more impactful features.\n",
    "\n"
   ]
  },
  {
   "cell_type": "code",
   "execution_count": 293,
   "metadata": {
    "execution": {
     "iopub.execute_input": "2024-12-19T08:40:22.674958Z",
     "iopub.status.busy": "2024-12-19T08:40:22.674454Z",
     "iopub.status.idle": "2024-12-19T08:40:22.692469Z",
     "shell.execute_reply": "2024-12-19T08:40:22.690690Z",
     "shell.execute_reply.started": "2024-12-19T08:40:22.674903Z"
    },
    "trusted": true
   },
   "outputs": [],
   "source": [
    "df.drop(['movie_title','movie_info','critics_consensus','cast'],axis=1,inplace=True)"
   ]
  },
  {
   "cell_type": "markdown",
   "metadata": {},
   "source": [
    "## Droped Null Values in the Rows\n",
    "1. **`genre`**  \n",
    "   - **Null Count**: 17  \n",
    "   - **Action**: Since the number of null values is very small compared to the dataset size, removing these rows ensures that the model works with complete data without introducing imputation noise.\n",
    "\n",
    "2. **`directors`**  \n",
    "   - **Null Count**: 114  \n",
    "   - **Action**: Similar to `genre`, the null count is relatively low. Deleting these rows is a straightforward approach to maintain data integrity without adding complexity.\n",
    "\n",
    "3. **`audience_rating`**  \n",
    "   - **Null Count**: 252  \n",
    "   - **Action**: Since this is the target variable, rows with null values must be removed because these rows cannot contribute to model training. Retaining them would introduce inconsistency.\n",
    "\n",
    "4. **`studio_name`**  \n",
    "   - **Null Count**: 416  \n",
    "   - **Action**: With only a small number of missing values, dropping these rows avoids the need for imputation while maintaining simplicity.\n",
    "for imputation.\n"
   ]
  },
  {
   "cell_type": "code",
   "execution_count": 294,
   "metadata": {
    "execution": {
     "iopub.execute_input": "2024-12-19T08:40:22.694784Z",
     "iopub.status.busy": "2024-12-19T08:40:22.694261Z",
     "iopub.status.idle": "2024-12-19T08:40:22.724785Z",
     "shell.execute_reply": "2024-12-19T08:40:22.722827Z",
     "shell.execute_reply.started": "2024-12-19T08:40:22.694731Z"
    },
    "trusted": true
   },
   "outputs": [],
   "source": [
    "df = df.dropna(subset=['genre','directors','audience_rating','studio_name']).reset_index(drop=True)"
   ]
  },
  {
   "cell_type": "markdown",
   "metadata": {},
   "source": [
    "# Handling the `genre` Column\n",
    "\n",
    "1. **Text Preprocessing**:  \n",
    "   - Initially, applied text preprocessing steps such as:\n",
    "     - Converting text to lowercase.\n",
    "     - Removing special characters, punctuation, and extra spaces.\n",
    "     - Tokenization to split the text into meaningful components.\n",
    "\n",
    "2. **Vectorization using TfidfVectorizer**:  \n",
    "   - The `TfidfVectorizer` was used to transform the `genre` column into numerical vectors.\n",
    "   - **Reason**: TfidfVectorizer assigns weights to words based on their importance in the text.  \n",
    "     - High weight for unique or rare words in a row.\n",
    "     - Low weight for common words across multiple rows.\n",
    "   - This helps capture the significance of different genres for predictive modeling.\n"
   ]
  },
  {
   "cell_type": "code",
   "execution_count": 295,
   "metadata": {
    "execution": {
     "iopub.execute_input": "2024-12-19T08:40:22.727896Z",
     "iopub.status.busy": "2024-12-19T08:40:22.727333Z",
     "iopub.status.idle": "2024-12-19T08:40:22.742421Z",
     "shell.execute_reply": "2024-12-19T08:40:22.740814Z",
     "shell.execute_reply.started": "2024-12-19T08:40:22.727848Z"
    },
    "trusted": true
   },
   "outputs": [],
   "source": [
    "stop_words = set(stopwords.words('english'))\n",
    "ps = PorterStemmer()\n",
    "def preprocess_genres(text):\n",
    "    # Lowercase the text\n",
    "    text = text.lower()\n",
    "    \n",
    "    # Remove special characters \n",
    "    text = re.sub(r'[^a-z, ]', '', text)\n",
    "    \n",
    "    # Tokenize the text by splitting on commas\n",
    "    tokens = text.split(', ')\n",
    "    \n",
    "    # 4. Remove stopwords and apply stemming\n",
    "    tokens = [ps.stem(word) for word in tokens if word not in stop_words]\n",
    "    \n",
    "    # Join the tokens back into a single string\n",
    "    return ' '.join(tokens)\n",
    "\n",
    "\n"
   ]
  },
  {
   "cell_type": "code",
   "execution_count": 296,
   "metadata": {
    "execution": {
     "iopub.execute_input": "2024-12-19T08:40:22.749494Z",
     "iopub.status.busy": "2024-12-19T08:40:22.748988Z",
     "iopub.status.idle": "2024-12-19T08:40:23.680243Z",
     "shell.execute_reply": "2024-12-19T08:40:23.679128Z",
     "shell.execute_reply.started": "2024-12-19T08:40:22.749450Z"
    },
    "trusted": true
   },
   "outputs": [],
   "source": [
    "# Apply the preprocessing function to the 'genre' column\n",
    "df['genre'] = df['genre'].apply(preprocess_genres)\n",
    "\n",
    "# Now apply TF-IDF Vectorization\n",
    "vectorizer = TfidfVectorizer()\n",
    "X = vectorizer.fit_transform(df['genre'])\n",
    "\n",
    "# Convert the resulting TF-IDF matrix to a DataFrame\n",
    "tfidf_df = pd.DataFrame(X.toarray(), columns=vectorizer.get_feature_names_out())\n",
    "\n",
    "\n",
    "# Concatenate the original DataFrame with the TF-IDF DataFrame\n",
    "new=pd.concat([df, tfidf_df], axis=1)\n"
   ]
  },
  {
   "cell_type": "markdown",
   "metadata": {},
   "source": [
    "#  Handling the `directors` Column\n",
    "\n",
    "1. **Text Preprocessing**:  \n",
    "   - Initially, applied text preprocessing steps to clean the data:\n",
    "     - Converting text to lowercase.\n",
    "     - Removing special characters, digits, and extra spaces.\n",
    "\n",
    "2. **Target Encoding**:  \n",
    "   - Used **target encoding** to encode the `directors` column based on the mean of the `audience_rating`.  \n",
    "   - This method assigns a numeric value to each director, reflecting their contribution to the target variable.\n",
    "   - In this method, there are issues of data leakage, but it can be handled by adding a regularization term.\n",
    "\n",
    "3. **Addressing Data Leakage with Regularization**:\n",
    "   - To prevent data leakage, a **regularization term** was added during target encoding. \n",
    "   - Regularization helps reduce overfitting by smoothing the encoded valueially fr rare \n",
    "   ing overfittinting or leakage.\n"
   ]
  },
  {
   "cell_type": "code",
   "execution_count": 297,
   "metadata": {
    "execution": {
     "iopub.execute_input": "2024-12-19T08:40:23.681962Z",
     "iopub.status.busy": "2024-12-19T08:40:23.681581Z",
     "iopub.status.idle": "2024-12-19T08:40:23.718107Z",
     "shell.execute_reply": "2024-12-19T08:40:23.716932Z",
     "shell.execute_reply.started": "2024-12-19T08:40:23.681926Z"
    },
    "trusted": true
   },
   "outputs": [],
   "source": [
    "\n",
    "def clean_director(director):\n",
    "    # Replace special characters with space and strip extra spaces\n",
    "    cleaned = re.sub(r'[^\\w\\s,]', '', director)  # Keep alphanumeric, whitespace, and commas\n",
    "    return cleaned.strip().lower()\n",
    "\n",
    "new['directors'] = new['directors'].apply(clean_director)\n",
    "\n"
   ]
  },
  {
   "cell_type": "code",
   "execution_count": 298,
   "metadata": {
    "execution": {
     "iopub.execute_input": "2024-12-19T08:40:23.720331Z",
     "iopub.status.busy": "2024-12-19T08:40:23.719870Z",
     "iopub.status.idle": "2024-12-19T08:40:23.756582Z",
     "shell.execute_reply": "2024-12-19T08:40:23.755489Z",
     "shell.execute_reply.started": "2024-12-19T08:40:23.720283Z"
    },
    "trusted": true
   },
   "outputs": [],
   "source": [
    "# Calculate the global mean\n",
    "global_mean = new['audience_rating'].mean()\n",
    "\n",
    "# Calculate the count of each category\n",
    "counts = new.groupby('directors').size()\n",
    "\n",
    "# Set smoothing parameter (m controls the strength of smoothing)\n",
    "m = 10\n",
    "\n",
    "# Calculate the mean for each director\n",
    "category_means = new.groupby('directors')['audience_rating'].mean()\n",
    "\n",
    "# Apply smoothing\n",
    "smoothed_means = (category_means * counts + global_mean * m) / (counts + m)\n",
    "\n",
    "# Map the smoothed mean values to the 'directors' column\n",
    "new['directors_target_encoded_smoothed'] = new['directors'].map(smoothed_means)\n"
   ]
  },
  {
   "cell_type": "markdown",
   "metadata": {},
   "source": [
    "### Handling the `writers` Column\n",
    "\n",
    "1. **Null Value Handling**:  \n",
    "   - The `writers` column has **1,349 null values**, which is a relatively large number.  \n",
    "   - Instead of removing rows with null values, **imputation** is performed by replacing the `NaN` values with the label **'unknown'**.  \n",
    "   - This ensures that we don’t lose a significant portion of data while maintaining consistency in the column.\n",
    "\n",
    "2. **Target Encoding**:  \n",
    "   - Similar to the `directors` column, **target encoding** is applied to the `writers` column.\n",
    "   - This method encodes the `writers` based on the mean of the `audience_rating`, reflecting how different writers influence the target variable.\n",
    "   - Regularization is used to handle data leakage, just as it was for the `directors` column. \n"
   ]
  },
  {
   "cell_type": "code",
   "execution_count": 299,
   "metadata": {
    "execution": {
     "iopub.execute_input": "2024-12-19T08:40:23.758792Z",
     "iopub.status.busy": "2024-12-19T08:40:23.758418Z",
     "iopub.status.idle": "2024-12-19T08:40:23.766114Z",
     "shell.execute_reply": "2024-12-19T08:40:23.764810Z",
     "shell.execute_reply.started": "2024-12-19T08:40:23.758757Z"
    },
    "trusted": true
   },
   "outputs": [],
   "source": [
    "for col in ['writers']:\n",
    "    new[col].fillna(\"Unknown\", inplace=True)"
   ]
  },
  {
   "cell_type": "code",
   "execution_count": 300,
   "metadata": {
    "execution": {
     "iopub.execute_input": "2024-12-19T08:40:23.768199Z",
     "iopub.status.busy": "2024-12-19T08:40:23.767774Z",
     "iopub.status.idle": "2024-12-19T08:40:23.808403Z",
     "shell.execute_reply": "2024-12-19T08:40:23.807321Z",
     "shell.execute_reply.started": "2024-12-19T08:40:23.768149Z"
    },
    "trusted": true
   },
   "outputs": [],
   "source": [
    "\n",
    "def clean_writers(writers):\n",
    "    # Replace special characters with space and strip extra spaces\n",
    "    cleaned = re.sub(r'[^\\w\\s,]', '', writers)  \n",
    "    return cleaned.strip().lower()\n",
    "\n",
    "new['writers'] = new['writers'].apply(clean_writers)\n",
    "\n"
   ]
  },
  {
   "cell_type": "code",
   "execution_count": 301,
   "metadata": {
    "execution": {
     "iopub.execute_input": "2024-12-19T08:40:23.810528Z",
     "iopub.status.busy": "2024-12-19T08:40:23.810180Z",
     "iopub.status.idle": "2024-12-19T08:40:23.861318Z",
     "shell.execute_reply": "2024-12-19T08:40:23.860008Z",
     "shell.execute_reply.started": "2024-12-19T08:40:23.810494Z"
    },
    "trusted": true
   },
   "outputs": [],
   "source": [
    "# Calculate the global mean of audience_rating\n",
    "global_mean = new['audience_rating'].mean()\n",
    "\n",
    "# Calculate the count of each writer\n",
    "counts = new.groupby('writers').size()\n",
    "\n",
    "# Calculate the mean of audience_rating for each writer\n",
    "category_means = new.groupby('writers')['audience_rating'].mean()\n",
    "\n",
    "# Set a smoothing parameter (m controls the degree of smoothing)\n",
    "m = 10\n",
    "\n",
    "# Apply the smoothing formula\n",
    "smoothed_means = (category_means * counts + global_mean * m) / (counts + m)\n",
    "\n",
    "# Map the smoothed means to the 'writers' column\n",
    "new['writers_encoded_smoothed'] = new['writers'].map(smoothed_means)\n",
    "\n",
    "# If a writer doesn't appear in the mapping, assign them the global mean\n",
    "new['writers_encoded_smoothed'] = new['writers_encoded_smoothed'].fillna(global_mean)\n",
    "\n",
    "\n"
   ]
  },
  {
   "cell_type": "markdown",
   "metadata": {},
   "source": [
    "### Preprocessing the `studio_name` Column\n",
    "\n",
    "1. **Text Preprocessing**:  \n",
    "   - Applied text preprocessing steps to clean the `studio_name` column:\n",
    "     - Converting text to lowercase.\n",
    "     - Removing special characters, digits, and extra spaces.\n",
    "\n",
    "2. **Target Encoding**:  \n",
    "   - Used **target encoding** to encode the `studio_name` column based on the mean of the `audience_rating`.\n",
    "   - Regularization was added to handle data leakage and reduce overfitting, ensuring that studios with fewer samples are smoothed towards the overall mean.\n"
   ]
  },
  {
   "cell_type": "code",
   "execution_count": 302,
   "metadata": {
    "execution": {
     "iopub.execute_input": "2024-12-19T08:40:23.864027Z",
     "iopub.status.busy": "2024-12-19T08:40:23.862797Z",
     "iopub.status.idle": "2024-12-19T08:40:23.922921Z",
     "shell.execute_reply": "2024-12-19T08:40:23.921879Z",
     "shell.execute_reply.started": "2024-12-19T08:40:23.863985Z"
    },
    "trusted": true
   },
   "outputs": [],
   "source": [
    "def preprocess_studio_name(text):\n",
    "    text = text.lower()\n",
    "    text = re.sub(r'[^a-z\\s]', '', text)\n",
    "    text = re.sub(r'\\s+', ' ', text).strip()\n",
    "    return text\n",
    "\n",
    "# Apply preprocessing to the studio_name column\n",
    "new['studio_name'] = new['studio_name'].apply(preprocess_studio_name)"
   ]
  },
  {
   "cell_type": "code",
   "execution_count": 303,
   "metadata": {
    "execution": {
     "iopub.execute_input": "2024-12-19T08:40:23.924967Z",
     "iopub.status.busy": "2024-12-19T08:40:23.924490Z",
     "iopub.status.idle": "2024-12-19T08:40:23.955041Z",
     "shell.execute_reply": "2024-12-19T08:40:23.953904Z",
     "shell.execute_reply.started": "2024-12-19T08:40:23.924917Z"
    },
    "trusted": true
   },
   "outputs": [],
   "source": [
    "# Target Encoding\n",
    "# Calculate the mean of the target variable ('audience_rating')\n",
    "global_mean = new['audience_rating'].mean()\n",
    "\n",
    "# Calculate the mean audience_rating for each 'studio_name'\n",
    "studio_means = new.groupby('studio_name')['audience_rating'].mean()\n",
    "\n",
    "# Calculate the count of each 'studio_name'\n",
    "studio_counts = new['studio_name'].value_counts()\n",
    "\n",
    "# Set the smoothing factor (a balance between the global mean and the studio mean)\n",
    "smoothing_factor = 10  # You can experiment with this value\n",
    "\n",
    "# Apply smoothing formula: Smoothed mean = (mean of studio * count + global mean * smoothing_factor) / (count + smoothing_factor)\n",
    "studio_encoded = studio_means * studio_counts + global_mean * smoothing_factor\n",
    "studio_encoded /= studio_counts + smoothing_factor\n",
    "\n",
    "# Map the smoothed values to the 'studio_name' column in the DataFrame\n",
    "new['studio_name_encoded'] = new['studio_name'].map(studio_encoded)\n"
   ]
  },
  {
   "cell_type": "markdown",
   "metadata": {},
   "source": [
    "## Note on Encoding for `directors`, `writers`, and `studio_name` Columns\n",
    "\n",
    "1. **Initial Encoding Methods**:  \n",
    "   - Tried various encoding techniques (e.g., One-Hot Encoding, Label Encoding) for the `directors`, `writers`, and `studio_name` columns.  \n",
    "   - These methods led to an **increase in dimensionality** and did not effectively extract the **essential features** that are predictive of the target variable.\n",
    "\n",
    "2. **Decision to Use Target Encoding**:  \n",
    "   - After evaluating the limitations of traditional encoding methods, **target encoding** was chosen as the preferred method.\n",
    "   - **Target encoding** transforms each  feature into a numerical value based on the mean of the target variable  which captures the relationship between the feature and the target.\n",
    "   - This approach helps in:\n",
    "     - Reducing dimensionality by encoding  features into a single numeric value.\n",
    "     - Retaining the most predictive information, ensuring better performance without adding noise or excessive features.\n"
   ]
  },
  {
   "cell_type": "code",
   "execution_count": 304,
   "metadata": {
    "execution": {
     "iopub.execute_input": "2024-12-19T08:40:23.956798Z",
     "iopub.status.busy": "2024-12-19T08:40:23.956427Z",
     "iopub.status.idle": "2024-12-19T08:40:23.968109Z",
     "shell.execute_reply": "2024-12-19T08:40:23.966399Z",
     "shell.execute_reply.started": "2024-12-19T08:40:23.956762Z"
    },
    "trusted": true
   },
   "outputs": [],
   "source": [
    "# Drop original date columns \n",
    "new.drop(['genre','directors','writers','studio_name'],axis=1,inplace=True) "
   ]
  },
  {
   "cell_type": "markdown",
   "metadata": {},
   "source": [
    "### Preprocessing the `in_theaters_date` and `on_streaming_date` Columns\n",
    "\n",
    "1. **Handling Missing Values**:  \n",
    "   - Both columns contain missing values, which are imputed using the **median value**  and **mode value** for each column.  \n",
    "   - This approach ensures that the missing dates are filled with a central tendency measure without introducing bias.\n",
    "\n",
    "2. **Extracting Month and Year**:  \n",
    "   - From the both column, only the **month** and **year** are extracted as these components are likely to have a more significant impact on the target variable than the exact date.\n",
    "   - The extracted month and year are stored as separate features for each column.\n"
   ]
  },
  {
   "cell_type": "code",
   "execution_count": 305,
   "metadata": {
    "execution": {
     "iopub.execute_input": "2024-12-19T08:40:23.969921Z",
     "iopub.status.busy": "2024-12-19T08:40:23.969437Z",
     "iopub.status.idle": "2024-12-19T08:40:24.081585Z",
     "shell.execute_reply": "2024-12-19T08:40:24.080408Z",
     "shell.execute_reply.started": "2024-12-19T08:40:23.969869Z"
    },
    "trusted": true
   },
   "outputs": [],
   "source": [
    "new['in_theaters_date'] = pd.to_datetime(new['in_theaters_date'], dayfirst=True)\n",
    "new['on_streaming_date'] = pd.to_datetime(new['on_streaming_date'], dayfirst=True)\n",
    "\n",
    "# Fill missing years with median year\n",
    "new['in_theaters_year'] = new['in_theaters_date'].dt.year\n",
    "median_year = new['in_theaters_year'].median()\n",
    "new['in_theaters_year'].fillna(median_year, inplace=True)\n",
    "\n",
    "new['on_streaming_year'] = new['on_streaming_date'].dt.year\n",
    "median_year = new['on_streaming_year'].median()\n",
    "new['on_streaming_year'].fillna(median_year, inplace=True)\n",
    "\n",
    "\n",
    "new['in_theaters_month'] = new['in_theaters_date'].dt.month\n",
    "new['on_streaming_month'] = new['on_streaming_date'].dt.month\n",
    "\n",
    "# Fill missing months with the most frequent (mode) month\n",
    "mode_in_theaters_month = new['in_theaters_month'].mode()[0]\n",
    "mode_on_streaming_month = new['on_streaming_month'].mode()[0]\n",
    "\n",
    "new['in_theaters_month'].fillna(mode_in_theaters_month, inplace=True)\n",
    "new['on_streaming_month'].fillna(mode_on_streaming_month, inplace=True)\n",
    "\n",
    "# Drop original date columns \n",
    "new.drop(columns=[\n",
    "    'in_theaters_date', 'on_streaming_date'\n",
    "], inplace=True)\n"
   ]
  },
  {
   "cell_type": "markdown",
   "metadata": {},
   "source": [
    "### Preprocessing the `rating` Column\n",
    "\n",
    "1. **Text Cleaning**:  \n",
    "   - Removed **special characters** from the `rating` column to ensure clean and consistent data.\n",
    "\n",
    "2. **Encoding**:  \n",
    "   - Applied **one-hot encoding** to convert the categorical `rating` values into numerical format.  \n",
    "   - Each unique rating is represented as a separate binary feature, enabling the model to utilize this information effectively.\n"
   ]
  },
  {
   "cell_type": "code",
   "execution_count": 306,
   "metadata": {
    "execution": {
     "iopub.execute_input": "2024-12-19T08:40:24.083223Z",
     "iopub.status.busy": "2024-12-19T08:40:24.082909Z",
     "iopub.status.idle": "2024-12-19T08:40:24.112076Z",
     "shell.execute_reply": "2024-12-19T08:40:24.110747Z",
     "shell.execute_reply.started": "2024-12-19T08:40:24.083191Z"
    },
    "trusted": true
   },
   "outputs": [
    {
     "data": {
      "text/plain": [
       "array(['PG', 'R', 'NR', 'G', 'PG-13', 'NC17'], dtype=object)"
      ]
     },
     "execution_count": 306,
     "metadata": {},
     "output_type": "execute_result"
    }
   ],
   "source": [
    "def clean_rating(rating):\n",
    "    # Use regex to remove any special characters \n",
    "    cleaned_rating = re.sub(r'[^a-zA-Z0-9-]', '', rating)\n",
    "    return cleaned_rating\n",
    "\n",
    "new['rating'] = new['rating'].apply(clean_rating)\n",
    "new.rating.unique()"
   ]
  },
  {
   "cell_type": "code",
   "execution_count": 307,
   "metadata": {
    "execution": {
     "iopub.execute_input": "2024-12-19T08:40:24.113780Z",
     "iopub.status.busy": "2024-12-19T08:40:24.113418Z",
     "iopub.status.idle": "2024-12-19T08:40:24.141822Z",
     "shell.execute_reply": "2024-12-19T08:40:24.140157Z",
     "shell.execute_reply.started": "2024-12-19T08:40:24.113746Z"
    },
    "trusted": true
   },
   "outputs": [],
   "source": [
    "from sklearn.preprocessing import OneHotEncoder\n",
    "# Initialize OneHotEncoder\n",
    "encoder = OneHotEncoder(sparse=False)\n",
    "\n",
    "# Fit and transform the 'rating' column\n",
    "encoded_ratings = encoder.fit_transform(new[['rating']])\n",
    "\n",
    "# Create a DataFrame with the One-Hot Encoded columns\n",
    "encoded_df = pd.DataFrame(encoded_ratings, columns=encoder.get_feature_names_out(['rating']))\n",
    "\n",
    "# Concatenate the original DataFrame with the One-Hot Encoded DataFrame\n",
    "df1 = pd.concat([new, encoded_df], axis=1)\n",
    "df1.drop(['rating'],inplace=True,axis=1)"
   ]
  },
  {
   "cell_type": "markdown",
   "metadata": {},
   "source": [
    "### Preprocessing the `tomatometer_status` Column\n",
    "\n",
    "1. **Encoding**:  \n",
    "   - Used **ordinal encoding** to transform the `tomatometer_status` column into numerical values based on the following order:\n",
    "     - **`rotten`** = 0  \n",
    "     - **`fresh`** = 1  \n",
    "     - **`certified fresh`** = 2  \n",
    "   - This encoding reflects the increasing level of quality or approval implied by the status labels.\n"
   ]
  },
  {
   "cell_type": "code",
   "execution_count": 308,
   "metadata": {
    "execution": {
     "iopub.execute_input": "2024-12-19T08:40:24.143742Z",
     "iopub.status.busy": "2024-12-19T08:40:24.143279Z",
     "iopub.status.idle": "2024-12-19T08:40:24.160482Z",
     "shell.execute_reply": "2024-12-19T08:40:24.158984Z",
     "shell.execute_reply.started": "2024-12-19T08:40:24.143691Z"
    },
    "trusted": true
   },
   "outputs": [],
   "source": [
    "from sklearn.preprocessing import OrdinalEncoder\n",
    "\n",
    "# Define the order of categories\n",
    "categories_order = [['Rotten', 'Fresh', 'Certified Fresh']]\n",
    "\n",
    "# Initialize OrdinalEncoder\n",
    "ordinal_encoder = OrdinalEncoder(categories=categories_order)\n",
    "\n",
    "# Fit and transform the 'tomatometer_status' column\n",
    "df1['tomatometer_status'] = ordinal_encoder.fit_transform(df1[['tomatometer_status']])\n",
    "\n",
    "\n",
    "\n"
   ]
  },
  {
   "cell_type": "markdown",
   "metadata": {},
   "source": [
    "### Preprocessing the `runtime_in_minutes` Column\n",
    "\n",
    "1. **Handling Missing Values**:  \n",
    "   - The null values in the `runtime_in_minutes` column are handled by imputing the **median** runtime.  \n",
    "   - This approach ensures that missing values are replaced with a central tendency measure without introducing outliers or bias.\n"
   ]
  },
  {
   "cell_type": "code",
   "execution_count": 309,
   "metadata": {
    "execution": {
     "iopub.execute_input": "2024-12-19T08:40:24.162803Z",
     "iopub.status.busy": "2024-12-19T08:40:24.162305Z",
     "iopub.status.idle": "2024-12-19T08:40:24.184736Z",
     "shell.execute_reply": "2024-12-19T08:40:24.183608Z",
     "shell.execute_reply.started": "2024-12-19T08:40:24.162747Z"
    },
    "trusted": true
   },
   "outputs": [],
   "source": [
    "df1['runtime_in_minutes'].fillna(df1['runtime_in_minutes'].median(), inplace=True)"
   ]
  },
  {
   "cell_type": "markdown",
   "metadata": {},
   "source": [
    "### Correlation Heatmap\n",
    "\n",
    "1. **Columns Included**:  \n",
    "   The heatmap will display the correlation among the following columns:\n",
    "   - `runtime_in_minutes`\n",
    "   - `tomatometer_rating`\n",
    "   - `tomatometer_count`\n",
    "   - `audience_rating`\n",
    "   - `in_theaters_year`\n",
    "   - `on_streaming_year`\n",
    "   - `directors_target_encoded_smoothed`\n",
    "   - `writers_encoded_smoothed`\n",
    "   - `studio_name_encoded`\n",
    "\n",
    "2. **Purpose**:  \n",
    "   - To visualize the relationships and dependencies between these features.\n",
    "   - High positive or negative correlation values indicate strong linear relationships, helping identify which features might be most relevant for the model.\n",
    "\n",
    "\n"
   ]
  },
  {
   "cell_type": "code",
   "execution_count": 310,
   "metadata": {
    "execution": {
     "iopub.execute_input": "2024-12-19T08:40:24.187107Z",
     "iopub.status.busy": "2024-12-19T08:40:24.186545Z",
     "iopub.status.idle": "2024-12-19T08:40:24.777548Z",
     "shell.execute_reply": "2024-12-19T08:40:24.776423Z",
     "shell.execute_reply.started": "2024-12-19T08:40:24.187054Z"
    },
    "trusted": true
   },
   "outputs": [
    {
     "data": {
      "image/png": "[encoded data removed]",
      "text/plain": [
       "<Figure size 800x600 with 2 Axes>"
      ]
     },
     "metadata": {},
     "output_type": "display_data"
    }
   ],
   "source": [
    "numeric_columns = df1[['runtime_in_minutes', 'tomatometer_rating', 'tomatometer_count', 'audience_rating','in_theaters_year','on_streaming_year','directors_target_encoded_smoothed','writers_encoded_smoothed','studio_name_encoded']]\n",
    "correlation_matrix = numeric_columns.corr()\n",
    "plt.figure(figsize=(8, 6))\n",
    "sns.heatmap(correlation_matrix, annot=True, cmap='coolwarm', fmt=\".2f\", linewidths=0.5)\n",
    "plt.title('Correlation Heatmap')\n",
    "plt.show()"
   ]
  },
  {
   "cell_type": "code",
   "execution_count": 311,
   "metadata": {
    "execution": {
     "iopub.execute_input": "2024-12-19T08:40:24.779407Z",
     "iopub.status.busy": "2024-12-19T08:40:24.779004Z",
     "iopub.status.idle": "2024-12-19T08:40:24.793959Z",
     "shell.execute_reply": "2024-12-19T08:40:24.792470Z",
     "shell.execute_reply.started": "2024-12-19T08:40:24.779362Z"
    },
    "trusted": true
   },
   "outputs": [
    {
     "data": {
      "text/plain": [
       "runtime_in_minutes                   0\n",
       "tomatometer_status                   0\n",
       "tomatometer_rating                   0\n",
       "tomatometer_count                    0\n",
       "audience_rating                      0\n",
       "action                               0\n",
       "adventur                             0\n",
       "anim                                 0\n",
       "anime                                0\n",
       "art                                  0\n",
       "classic                              0\n",
       "comedi                               0\n",
       "cult                                 0\n",
       "documentari                          0\n",
       "drama                                0\n",
       "faith                                0\n",
       "famili                               0\n",
       "fantasi                              0\n",
       "fiction                              0\n",
       "fit                                  0\n",
       "gay                                  0\n",
       "horror                               0\n",
       "house                                0\n",
       "interest                             0\n",
       "intern                               0\n",
       "kids                                 0\n",
       "lesbian                              0\n",
       "manga                                0\n",
       "movi                                 0\n",
       "musical                              0\n",
       "mystery                              0\n",
       "performing                           0\n",
       "romanc                               0\n",
       "science                              0\n",
       "special                              0\n",
       "spiritu                              0\n",
       "sports                               0\n",
       "suspens                              0\n",
       "televis                              0\n",
       "western                              0\n",
       "directors_target_encoded_smoothed    0\n",
       "writers_encoded_smoothed             0\n",
       "studio_name_encoded                  0\n",
       "in_theaters_year                     0\n",
       "on_streaming_year                    0\n",
       "in_theaters_month                    0\n",
       "on_streaming_month                   0\n",
       "rating_G                             0\n",
       "rating_NC17                          0\n",
       "rating_NR                            0\n",
       "rating_PG                            0\n",
       "rating_PG-13                         0\n",
       "rating_R                             0\n",
       "dtype: int64"
      ]
     },
     "execution_count": 311,
     "metadata": {},
     "output_type": "execute_result"
    }
   ],
   "source": [
    "df1.isnull().sum()"
   ]
  },
  {
   "cell_type": "markdown",
   "metadata": {},
   "source": [
    "# Dataset Preprocessing Summary\n",
    "\n",
    "- **Before Preprocessing**:\n",
    "  - **Rows**: 16,638\n",
    "  - **Columns**: 16\n",
    "\n",
    "- **After Preprocessing**:\n",
    "  - **Rows**: 15,915\n",
    "  - **Columns**: 53\n",
    "\n",
    "- **Key Steps Taken**:\n",
    "  1. **Null Values**: All rows with missing values were removed to ensure the dataset is clean and ready for model training.\n",
    "  2. **Feature Extraction**: Important features were extracted, such as:\n",
    "     - Creating new columns from date features like `in_theaters_date` and `on_streaming_date` (extracted month and year).\n",
    "     - Text data  like `directors`, `writers`, and `studio_name` were encoded using   target encoding.\n",
    "     - Other transformations were applied to improve the dataset's suitability for machine learning models, focusing on essential features for accurate predictions.\n"
   ]
  },
  {
   "cell_type": "markdown",
   "metadata": {},
   "source": [
    " # <span style=\"color:GREEN; font-weight:bold;\">Model Building</span>\n"
   ]
  },
  {
   "cell_type": "code",
   "execution_count": 312,
   "metadata": {
    "execution": {
     "iopub.execute_input": "2024-12-19T08:40:24.795833Z",
     "iopub.status.busy": "2024-12-19T08:40:24.795399Z",
     "iopub.status.idle": "2024-12-19T08:40:24.805117Z",
     "shell.execute_reply": "2024-12-19T08:40:24.803847Z",
     "shell.execute_reply.started": "2024-12-19T08:40:24.795773Z"
    },
    "trusted": true
   },
   "outputs": [],
   "source": [
    "\n",
    "X = df1.drop(columns=['audience_rating']) \n",
    "y = df1['audience_rating'] "
   ]
  },
  {
   "cell_type": "code",
   "execution_count": 313,
   "metadata": {
    "execution": {
     "iopub.execute_input": "2024-12-19T08:40:24.807035Z",
     "iopub.status.busy": "2024-12-19T08:40:24.806570Z",
     "iopub.status.idle": "2024-12-19T08:40:24.847624Z",
     "shell.execute_reply": "2024-12-19T08:40:24.846676Z",
     "shell.execute_reply.started": "2024-12-19T08:40:24.806986Z"
    },
    "trusted": true
   },
   "outputs": [],
   "source": [
    "# Train Test Split\n",
    "X_train, X_test, y_train, y_test = train_test_split(X, y, test_size=0.2, random_state=42)\n",
    "# Standardization\n",
    "scaler = StandardScaler()\n",
    "X_train_scaled = scaler.fit_transform(X_train)\n",
    "X_test_scaled = scaler.transform(X_test)"
   ]
  },
  {
   "cell_type": "markdown",
   "metadata": {},
   "source": [
    "# Chosen Models\n",
    "\n",
    "## 1. **Linear Regression**\n",
    "   - **Model Chosen**: **Linear Regression**  \n",
    "   - **Reason**: Linear Regression is a simple and interpretable model that assumes a linear relationship between the input features and the target variable. It serves as a baseline model for regression tasks.\n",
    "   - **Key Advantages**:\n",
    "     - Simple and easy to understand.\n",
    "     - Fast to train and makes predictions.\n",
    "     - Works well when the relationship between features and target is approximately linear.\n",
    "\n",
    "## 2. **Bagging Technique: Random Forest**\n",
    "   - **Model Chosen**: **Random Forest**  \n",
    "   - **Reason**: Random Forest is an ensemble method that combines multiple decision trees to reduce variance and prevent overfitting, making it well-suited for handling complex datasets.\n",
    "   - **Key Advantages**:\n",
    "     - Handles high-dimensional data well.\n",
    "     - Robust to overfitting due to the averaging of predictions from multiple trees.\n",
    "     - Works well with both categorical and continuous data.\n",
    "\n",
    "## 3. **Boosting Technique: XGBoost**\n",
    "   - **Model Chosen**: **XGBoost**  \n",
    "   - **Reason**: XGBoost is an efficient and highly scalable implementation of gradient boosting, which focuses on reducing bias and variance by building decision trees sequentially, with each tree correcting the errors of the previous one.\n",
    "   - **Key Advantages**:\n",
    "     - Often provides state-of-the-art performance on a wide range of datasets.\n",
    "     - Handles missing data natively and has regularization capabilities.\n",
    "     - Offers excellent speed and efficiency with parallelization.\n",
    "\n",
    "## 4. **Bayesian Regression: Probabilistic Approach**\n",
    "   - **Model Chosen**: **Bayesian Regression**  \n",
    "   - **Reason**: Bayesian Regression applies a probabilistic approach to regression problems, which provides a distribution over the parameters instead of just a point estimate. This allows for incorporating uncertainty into the model and is useful when you want to express the uncertainty of predictions.\n",
    "   - **Key Advantages**:\n",
    "     - Provides a probabilistic framework, giving not just point predictions but also confidence intervals for predictions.\n",
    "     - Can handle small datasets effectively by incorporating prior knowledge.\n",
    "     - Helps in regularizing the model, reducing overfitting, and giving more robust estimates.\n",
    "     - Incorporates uncertainty in model predictions, which can be beneficial in certain scenarios where confidence in predictions matters.\n"
   ]
  },
  {
   "cell_type": "code",
   "execution_count": 314,
   "metadata": {
    "execution": {
     "iopub.execute_input": "2024-12-19T08:40:24.852434Z",
     "iopub.status.busy": "2024-12-19T08:40:24.852098Z",
     "iopub.status.idle": "2024-12-19T08:40:24.859564Z",
     "shell.execute_reply": "2024-12-19T08:40:24.858415Z",
     "shell.execute_reply.started": "2024-12-19T08:40:24.852401Z"
    },
    "trusted": true
   },
   "outputs": [],
   "source": [
    "# create the pipeline\n",
    "steps1=[(('lr',LinearRegression()))]\n",
    "\n",
    "steps2=[(('rf_cregressor', RandomForestRegressor()))]\n",
    "\n",
    "steps3=[(('xgb',XGBRegressor(\n",
    "    n_estimators=500,         # Number of boosting rounds\n",
    "    learning_rate=0.05,       # Step size shrinkage\n",
    "    max_depth=6,              # Maximum tree depth\n",
    "    subsample=0.8,            # Subsample ratio of training data\n",
    "    colsample_bytree=0.8,     # Subsample ratio of columns\n",
    "    random_state=42\n",
    ")))]\n",
    "steps4=[(('br',BayesianRidge()))]\n"
   ]
  },
  {
   "cell_type": "code",
   "execution_count": 315,
   "metadata": {
    "execution": {
     "iopub.execute_input": "2024-12-19T08:40:24.861478Z",
     "iopub.status.busy": "2024-12-19T08:40:24.861135Z",
     "iopub.status.idle": "2024-12-19T08:40:24.878303Z",
     "shell.execute_reply": "2024-12-19T08:40:24.876728Z",
     "shell.execute_reply.started": "2024-12-19T08:40:24.861445Z"
    },
    "trusted": true
   },
   "outputs": [],
   "source": [
    "\n",
    "pipe1=Pipeline(steps=steps1)\n",
    "pipe2=Pipeline(steps=steps2)\n",
    "pipe3=Pipeline(steps=steps3)\n",
    "pipe4=Pipeline(steps=steps4)\n"
   ]
  },
  {
   "cell_type": "code",
   "execution_count": 316,
   "metadata": {
    "execution": {
     "iopub.execute_input": "2024-12-19T08:40:24.880243Z",
     "iopub.status.busy": "2024-12-19T08:40:24.879763Z",
     "iopub.status.idle": "2024-12-19T08:40:24.935946Z",
     "shell.execute_reply": "2024-12-19T08:40:24.934808Z",
     "shell.execute_reply.started": "2024-12-19T08:40:24.880192Z"
    },
    "trusted": true
   },
   "outputs": [
    {
     "data": {
      "text/html": [
       "<style>#sk-container-id-22 {color: black;background-color: white;}#sk-container-id-22 pre{padding: 0;}#sk-container-id-22 div.sk-toggleable {background-color: white;}#sk-container-id-22 label.sk-toggleable__label {cursor: pointer;display: block;width: 100%;margin-bottom: 0;padding: 0.3em;box-sizing: border-box;text-align: center;}#sk-container-id-22 label.sk-toggleable__label-arrow:before {content: \"▸\";float: left;margin-right: 0.25em;color: #696969;}#sk-container-id-22 label.sk-toggleable__label-arrow:hover:before {color: black;}#sk-container-id-22 div.sk-estimator:hover label.sk-toggleable__label-arrow:before {color: black;}#sk-container-id-22 div.sk-toggleable__content {max-height: 0;max-width: 0;overflow: hidden;text-align: left;background-color: #f0f8ff;}#sk-container-id-22 div.sk-toggleable__content pre {margin: 0.2em;color: black;border-radius: 0.25em;background-color: #f0f8ff;}#sk-container-id-22 input.sk-toggleable__control:checked~div.sk-toggleable__content {max-height: 200px;max-width: 100%;overflow: auto;}#sk-container-id-22 input.sk-toggleable__control:checked~label.sk-toggleable__label-arrow:before {content: \"▾\";}#sk-container-id-22 div.sk-estimator input.sk-toggleable__control:checked~label.sk-toggleable__label {background-color: #d4ebff;}#sk-container-id-22 div.sk-label input.sk-toggleable__control:checked~label.sk-toggleable__label {background-color: #d4ebff;}#sk-container-id-22 input.sk-hidden--visually {border: 0;clip: rect(1px 1px 1px 1px);clip: rect(1px, 1px, 1px, 1px);height: 1px;margin: -1px;overflow: hidden;padding: 0;position: absolute;width: 1px;}#sk-container-id-22 div.sk-estimator {font-family: monospace;background-color: #f0f8ff;border: 1px dotted black;border-radius: 0.25em;box-sizing: border-box;margin-bottom: 0.5em;}#sk-container-id-22 div.sk-estimator:hover {background-color: #d4ebff;}#sk-container-id-22 div.sk-parallel-item::after {content: \"\";width: 100%;border-bottom: 1px solid gray;flex-grow: 1;}#sk-container-id-22 div.sk-label:hover label.sk-toggleable__label {background-color: #d4ebff;}#sk-container-id-22 div.sk-serial::before {content: \"\";position: absolute;border-left: 1px solid gray;box-sizing: border-box;top: 0;bottom: 0;left: 50%;z-index: 0;}#sk-container-id-22 div.sk-serial {display: flex;flex-direction: column;align-items: center;background-color: white;padding-right: 0.2em;padding-left: 0.2em;position: relative;}#sk-container-id-22 div.sk-item {position: relative;z-index: 1;}#sk-container-id-22 div.sk-parallel {display: flex;align-items: stretch;justify-content: center;background-color: white;position: relative;}#sk-container-id-22 div.sk-item::before, #sk-container-id-22 div.sk-parallel-item::before {content: \"\";position: absolute;border-left: 1px solid gray;box-sizing: border-box;top: 0;bottom: 0;left: 50%;z-index: -1;}#sk-container-id-22 div.sk-parallel-item {display: flex;flex-direction: column;z-index: 1;position: relative;background-color: white;}#sk-container-id-22 div.sk-parallel-item:first-child::after {align-self: flex-end;width: 50%;}#sk-container-id-22 div.sk-parallel-item:last-child::after {align-self: flex-start;width: 50%;}#sk-container-id-22 div.sk-parallel-item:only-child::after {width: 0;}#sk-container-id-22 div.sk-dashed-wrapped {border: 1px dashed gray;margin: 0 0.4em 0.5em 0.4em;box-sizing: border-box;padding-bottom: 0.4em;background-color: white;}#sk-container-id-22 div.sk-label label {font-family: monospace;font-weight: bold;display: inline-block;line-height: 1.2em;}#sk-container-id-22 div.sk-label-container {text-align: center;}#sk-container-id-22 div.sk-container {/* jupyter's `normalize.less` sets `[hidden] { display: none; }` but bootstrap.min.css set `[hidden] { display: none !important; }` so we also need the `!important` here to be able to override the default hidden behavior on the sphinx rendered scikit-learn.org. See: https://github.com/scikit-learn/scikit-learn/issues/21755 */display: inline-block !important;position: relative;}#sk-container-id-22 div.sk-text-repr-fallback {display: none;}</style><div id=\"sk-container-id-22\" class=\"sk-top-container\"><div class=\"sk-text-repr-fallback\"><pre>Pipeline(steps=[(&#x27;lr&#x27;, LinearRegression())])</pre><b>In a Jupyter environment, please rerun this cell to show the HTML representation or trust the notebook. <br />On GitHub, the HTML representation is unable to render, please try loading this page with nbviewer.org.</b></div><div class=\"sk-container\" hidden><div class=\"sk-item sk-dashed-wrapped\"><div class=\"sk-label-container\"><div class=\"sk-label sk-toggleable\"><input class=\"sk-toggleable__control sk-hidden--visually\" id=\"sk-estimator-id-34\" type=\"checkbox\" ><label for=\"sk-estimator-id-34\" class=\"sk-toggleable__label sk-toggleable__label-arrow\">Pipeline</label><div class=\"sk-toggleable__content\"><pre>Pipeline(steps=[(&#x27;lr&#x27;, LinearRegression())])</pre></div></div></div><div class=\"sk-serial\"><div class=\"sk-item\"><div class=\"sk-estimator sk-toggleable\"><input class=\"sk-toggleable__control sk-hidden--visually\" id=\"sk-estimator-id-35\" type=\"checkbox\" ><label for=\"sk-estimator-id-35\" class=\"sk-toggleable__label sk-toggleable__label-arrow\">LinearRegression</label><div class=\"sk-toggleable__content\"><pre>LinearRegression()</pre></div></div></div></div></div></div></div>"
      ],
      "text/plain": [
       "Pipeline(steps=[('lr', LinearRegression())])"
      ]
     },
     "execution_count": 316,
     "metadata": {},
     "output_type": "execute_result"
    }
   ],
   "source": [
    "pipe1.fit(X_train_scaled,y_train)"
   ]
  },
  {
   "cell_type": "code",
   "execution_count": 317,
   "metadata": {
    "execution": {
     "iopub.execute_input": "2024-12-19T08:40:24.937479Z",
     "iopub.status.busy": "2024-12-19T08:40:24.937081Z",
     "iopub.status.idle": "2024-12-19T08:40:39.289880Z",
     "shell.execute_reply": "2024-12-19T08:40:39.288747Z",
     "shell.execute_reply.started": "2024-12-19T08:40:24.937435Z"
    },
    "trusted": true
   },
   "outputs": [
    {
     "data": {
      "text/html": [
       "<style>#sk-container-id-23 {color: black;background-color: white;}#sk-container-id-23 pre{padding: 0;}#sk-container-id-23 div.sk-toggleable {background-color: white;}#sk-container-id-23 label.sk-toggleable__label {cursor: pointer;display: block;width: 100%;margin-bottom: 0;padding: 0.3em;box-sizing: border-box;text-align: center;}#sk-container-id-23 label.sk-toggleable__label-arrow:before {content: \"▸\";float: left;margin-right: 0.25em;color: #696969;}#sk-container-id-23 label.sk-toggleable__label-arrow:hover:before {color: black;}#sk-container-id-23 div.sk-estimator:hover label.sk-toggleable__label-arrow:before {color: black;}#sk-container-id-23 div.sk-toggleable__content {max-height: 0;max-width: 0;overflow: hidden;text-align: left;background-color: #f0f8ff;}#sk-container-id-23 div.sk-toggleable__content pre {margin: 0.2em;color: black;border-radius: 0.25em;background-color: #f0f8ff;}#sk-container-id-23 input.sk-toggleable__control:checked~div.sk-toggleable__content {max-height: 200px;max-width: 100%;overflow: auto;}#sk-container-id-23 input.sk-toggleable__control:checked~label.sk-toggleable__label-arrow:before {content: \"▾\";}#sk-container-id-23 div.sk-estimator input.sk-toggleable__control:checked~label.sk-toggleable__label {background-color: #d4ebff;}#sk-container-id-23 div.sk-label input.sk-toggleable__control:checked~label.sk-toggleable__label {background-color: #d4ebff;}#sk-container-id-23 input.sk-hidden--visually {border: 0;clip: rect(1px 1px 1px 1px);clip: rect(1px, 1px, 1px, 1px);height: 1px;margin: -1px;overflow: hidden;padding: 0;position: absolute;width: 1px;}#sk-container-id-23 div.sk-estimator {font-family: monospace;background-color: #f0f8ff;border: 1px dotted black;border-radius: 0.25em;box-sizing: border-box;margin-bottom: 0.5em;}#sk-container-id-23 div.sk-estimator:hover {background-color: #d4ebff;}#sk-container-id-23 div.sk-parallel-item::after {content: \"\";width: 100%;border-bottom: 1px solid gray;flex-grow: 1;}#sk-container-id-23 div.sk-label:hover label.sk-toggleable__label {background-color: #d4ebff;}#sk-container-id-23 div.sk-serial::before {content: \"\";position: absolute;border-left: 1px solid gray;box-sizing: border-box;top: 0;bottom: 0;left: 50%;z-index: 0;}#sk-container-id-23 div.sk-serial {display: flex;flex-direction: column;align-items: center;background-color: white;padding-right: 0.2em;padding-left: 0.2em;position: relative;}#sk-container-id-23 div.sk-item {position: relative;z-index: 1;}#sk-container-id-23 div.sk-parallel {display: flex;align-items: stretch;justify-content: center;background-color: white;position: relative;}#sk-container-id-23 div.sk-item::before, #sk-container-id-23 div.sk-parallel-item::before {content: \"\";position: absolute;border-left: 1px solid gray;box-sizing: border-box;top: 0;bottom: 0;left: 50%;z-index: -1;}#sk-container-id-23 div.sk-parallel-item {display: flex;flex-direction: column;z-index: 1;position: relative;background-color: white;}#sk-container-id-23 div.sk-parallel-item:first-child::after {align-self: flex-end;width: 50%;}#sk-container-id-23 div.sk-parallel-item:last-child::after {align-self: flex-start;width: 50%;}#sk-container-id-23 div.sk-parallel-item:only-child::after {width: 0;}#sk-container-id-23 div.sk-dashed-wrapped {border: 1px dashed gray;margin: 0 0.4em 0.5em 0.4em;box-sizing: border-box;padding-bottom: 0.4em;background-color: white;}#sk-container-id-23 div.sk-label label {font-family: monospace;font-weight: bold;display: inline-block;line-height: 1.2em;}#sk-container-id-23 div.sk-label-container {text-align: center;}#sk-container-id-23 div.sk-container {/* jupyter's `normalize.less` sets `[hidden] { display: none; }` but bootstrap.min.css set `[hidden] { display: none !important; }` so we also need the `!important` here to be able to override the default hidden behavior on the sphinx rendered scikit-learn.org. See: https://github.com/scikit-learn/scikit-learn/issues/21755 */display: inline-block !important;position: relative;}#sk-container-id-23 div.sk-text-repr-fallback {display: none;}</style><div id=\"sk-container-id-23\" class=\"sk-top-container\"><div class=\"sk-text-repr-fallback\"><pre>Pipeline(steps=[(&#x27;rf_cregressor&#x27;, RandomForestRegressor())])</pre><b>In a Jupyter environment, please rerun this cell to show the HTML representation or trust the notebook. <br />On GitHub, the HTML representation is unable to render, please try loading this page with nbviewer.org.</b></div><div class=\"sk-container\" hidden><div class=\"sk-item sk-dashed-wrapped\"><div class=\"sk-label-container\"><div class=\"sk-label sk-toggleable\"><input class=\"sk-toggleable__control sk-hidden--visually\" id=\"sk-estimator-id-36\" type=\"checkbox\" ><label for=\"sk-estimator-id-36\" class=\"sk-toggleable__label sk-toggleable__label-arrow\">Pipeline</label><div class=\"sk-toggleable__content\"><pre>Pipeline(steps=[(&#x27;rf_cregressor&#x27;, RandomForestRegressor())])</pre></div></div></div><div class=\"sk-serial\"><div class=\"sk-item\"><div class=\"sk-estimator sk-toggleable\"><input class=\"sk-toggleable__control sk-hidden--visually\" id=\"sk-estimator-id-37\" type=\"checkbox\" ><label for=\"sk-estimator-id-37\" class=\"sk-toggleable__label sk-toggleable__label-arrow\">RandomForestRegressor</label><div class=\"sk-toggleable__content\"><pre>RandomForestRegressor()</pre></div></div></div></div></div></div></div>"
      ],
      "text/plain": [
       "Pipeline(steps=[('rf_cregressor', RandomForestRegressor())])"
      ]
     },
     "execution_count": 317,
     "metadata": {},
     "output_type": "execute_result"
    }
   ],
   "source": [
    "pipe2.fit(X_train_scaled,y_train)"
   ]
  },
  {
   "cell_type": "code",
   "execution_count": 318,
   "metadata": {
    "execution": {
     "iopub.execute_input": "2024-12-19T08:40:39.292044Z",
     "iopub.status.busy": "2024-12-19T08:40:39.291503Z",
     "iopub.status.idle": "2024-12-19T08:40:41.832824Z",
     "shell.execute_reply": "2024-12-19T08:40:41.831412Z",
     "shell.execute_reply.started": "2024-12-19T08:40:39.291932Z"
    },
    "trusted": true
   },
   "outputs": [
    {
     "data": {
      "text/html": [
       "<style>#sk-container-id-24 {color: black;background-color: white;}#sk-container-id-24 pre{padding: 0;}#sk-container-id-24 div.sk-toggleable {background-color: white;}#sk-container-id-24 label.sk-toggleable__label {cursor: pointer;display: block;width: 100%;margin-bottom: 0;padding: 0.3em;box-sizing: border-box;text-align: center;}#sk-container-id-24 label.sk-toggleable__label-arrow:before {content: \"▸\";float: left;margin-right: 0.25em;color: #696969;}#sk-container-id-24 label.sk-toggleable__label-arrow:hover:before {color: black;}#sk-container-id-24 div.sk-estimator:hover label.sk-toggleable__label-arrow:before {color: black;}#sk-container-id-24 div.sk-toggleable__content {max-height: 0;max-width: 0;overflow: hidden;text-align: left;background-color: #f0f8ff;}#sk-container-id-24 div.sk-toggleable__content pre {margin: 0.2em;color: black;border-radius: 0.25em;background-color: #f0f8ff;}#sk-container-id-24 input.sk-toggleable__control:checked~div.sk-toggleable__content {max-height: 200px;max-width: 100%;overflow: auto;}#sk-container-id-24 input.sk-toggleable__control:checked~label.sk-toggleable__label-arrow:before {content: \"▾\";}#sk-container-id-24 div.sk-estimator input.sk-toggleable__control:checked~label.sk-toggleable__label {background-color: #d4ebff;}#sk-container-id-24 div.sk-label input.sk-toggleable__control:checked~label.sk-toggleable__label {background-color: #d4ebff;}#sk-container-id-24 input.sk-hidden--visually {border: 0;clip: rect(1px 1px 1px 1px);clip: rect(1px, 1px, 1px, 1px);height: 1px;margin: -1px;overflow: hidden;padding: 0;position: absolute;width: 1px;}#sk-container-id-24 div.sk-estimator {font-family: monospace;background-color: #f0f8ff;border: 1px dotted black;border-radius: 0.25em;box-sizing: border-box;margin-bottom: 0.5em;}#sk-container-id-24 div.sk-estimator:hover {background-color: #d4ebff;}#sk-container-id-24 div.sk-parallel-item::after {content: \"\";width: 100%;border-bottom: 1px solid gray;flex-grow: 1;}#sk-container-id-24 div.sk-label:hover label.sk-toggleable__label {background-color: #d4ebff;}#sk-container-id-24 div.sk-serial::before {content: \"\";position: absolute;border-left: 1px solid gray;box-sizing: border-box;top: 0;bottom: 0;left: 50%;z-index: 0;}#sk-container-id-24 div.sk-serial {display: flex;flex-direction: column;align-items: center;background-color: white;padding-right: 0.2em;padding-left: 0.2em;position: relative;}#sk-container-id-24 div.sk-item {position: relative;z-index: 1;}#sk-container-id-24 div.sk-parallel {display: flex;align-items: stretch;justify-content: center;background-color: white;position: relative;}#sk-container-id-24 div.sk-item::before, #sk-container-id-24 div.sk-parallel-item::before {content: \"\";position: absolute;border-left: 1px solid gray;box-sizing: border-box;top: 0;bottom: 0;left: 50%;z-index: -1;}#sk-container-id-24 div.sk-parallel-item {display: flex;flex-direction: column;z-index: 1;position: relative;background-color: white;}#sk-container-id-24 div.sk-parallel-item:first-child::after {align-self: flex-end;width: 50%;}#sk-container-id-24 div.sk-parallel-item:last-child::after {align-self: flex-start;width: 50%;}#sk-container-id-24 div.sk-parallel-item:only-child::after {width: 0;}#sk-container-id-24 div.sk-dashed-wrapped {border: 1px dashed gray;margin: 0 0.4em 0.5em 0.4em;box-sizing: border-box;padding-bottom: 0.4em;background-color: white;}#sk-container-id-24 div.sk-label label {font-family: monospace;font-weight: bold;display: inline-block;line-height: 1.2em;}#sk-container-id-24 div.sk-label-container {text-align: center;}#sk-container-id-24 div.sk-container {/* jupyter's `normalize.less` sets `[hidden] { display: none; }` but bootstrap.min.css set `[hidden] { display: none !important; }` so we also need the `!important` here to be able to override the default hidden behavior on the sphinx rendered scikit-learn.org. See: https://github.com/scikit-learn/scikit-learn/issues/21755 */display: inline-block !important;position: relative;}#sk-container-id-24 div.sk-text-repr-fallback {display: none;}</style><div id=\"sk-container-id-24\" class=\"sk-top-container\"><div class=\"sk-text-repr-fallback\"><pre>Pipeline(steps=[(&#x27;xgb&#x27;,\n",
       "                 XGBRegressor(base_score=None, booster=None, callbacks=None,\n",
       "                              colsample_bylevel=None, colsample_bynode=None,\n",
       "                              colsample_bytree=0.8, device=None,\n",
       "                              early_stopping_rounds=None,\n",
       "                              enable_categorical=False, eval_metric=None,\n",
       "                              feature_types=None, gamma=None, grow_policy=None,\n",
       "                              importance_type=None,\n",
       "                              interaction_constraints=None, learning_rate=0.05,\n",
       "                              max_bin=None, max_cat_threshold=None,\n",
       "                              max_cat_to_onehot=None, max_delta_step=None,\n",
       "                              max_depth=6, max_leaves=None,\n",
       "                              min_child_weight=None, missing=nan,\n",
       "                              monotone_constraints=None, multi_strategy=None,\n",
       "                              n_estimators=500, n_jobs=None,\n",
       "                              num_parallel_tree=None, random_state=42, ...))])</pre><b>In a Jupyter environment, please rerun this cell to show the HTML representation or trust the notebook. <br />On GitHub, the HTML representation is unable to render, please try loading this page with nbviewer.org.</b></div><div class=\"sk-container\" hidden><div class=\"sk-item sk-dashed-wrapped\"><div class=\"sk-label-container\"><div class=\"sk-label sk-toggleable\"><input class=\"sk-toggleable__control sk-hidden--visually\" id=\"sk-estimator-id-38\" type=\"checkbox\" ><label for=\"sk-estimator-id-38\" class=\"sk-toggleable__label sk-toggleable__label-arrow\">Pipeline</label><div class=\"sk-toggleable__content\"><pre>Pipeline(steps=[(&#x27;xgb&#x27;,\n",
       "                 XGBRegressor(base_score=None, booster=None, callbacks=None,\n",
       "                              colsample_bylevel=None, colsample_bynode=None,\n",
       "                              colsample_bytree=0.8, device=None,\n",
       "                              early_stopping_rounds=None,\n",
       "                              enable_categorical=False, eval_metric=None,\n",
       "                              feature_types=None, gamma=None, grow_policy=None,\n",
       "                              importance_type=None,\n",
       "                              interaction_constraints=None, learning_rate=0.05,\n",
       "                              max_bin=None, max_cat_threshold=None,\n",
       "                              max_cat_to_onehot=None, max_delta_step=None,\n",
       "                              max_depth=6, max_leaves=None,\n",
       "                              min_child_weight=None, missing=nan,\n",
       "                              monotone_constraints=None, multi_strategy=None,\n",
       "                              n_estimators=500, n_jobs=None,\n",
       "                              num_parallel_tree=None, random_state=42, ...))])</pre></div></div></div><div class=\"sk-serial\"><div class=\"sk-item\"><div class=\"sk-estimator sk-toggleable\"><input class=\"sk-toggleable__control sk-hidden--visually\" id=\"sk-estimator-id-39\" type=\"checkbox\" ><label for=\"sk-estimator-id-39\" class=\"sk-toggleable__label sk-toggleable__label-arrow\">XGBRegressor</label><div class=\"sk-toggleable__content\"><pre>XGBRegressor(base_score=None, booster=None, callbacks=None,\n",
       "             colsample_bylevel=None, colsample_bynode=None,\n",
       "             colsample_bytree=0.8, device=None, early_stopping_rounds=None,\n",
       "             enable_categorical=False, eval_metric=None, feature_types=None,\n",
       "             gamma=None, grow_policy=None, importance_type=None,\n",
       "             interaction_constraints=None, learning_rate=0.05, max_bin=None,\n",
       "             max_cat_threshold=None, max_cat_to_onehot=None,\n",
       "             max_delta_step=None, max_depth=6, max_leaves=None,\n",
       "             min_child_weight=None, missing=nan, monotone_constraints=None,\n",
       "             multi_strategy=None, n_estimators=500, n_jobs=None,\n",
       "             num_parallel_tree=None, random_state=42, ...)</pre></div></div></div></div></div></div></div>"
      ],
      "text/plain": [
       "Pipeline(steps=[('xgb',\n",
       "                 XGBRegressor(base_score=None, booster=None, callbacks=None,\n",
       "                              colsample_bylevel=None, colsample_bynode=None,\n",
       "                              colsample_bytree=0.8, device=None,\n",
       "                              early_stopping_rounds=None,\n",
       "                              enable_categorical=False, eval_metric=None,\n",
       "                              feature_types=None, gamma=None, grow_policy=None,\n",
       "                              importance_type=None,\n",
       "                              interaction_constraints=None, learning_rate=0.05,\n",
       "                              max_bin=None, max_cat_threshold=None,\n",
       "                              max_cat_to_onehot=None, max_delta_step=None,\n",
       "                              max_depth=6, max_leaves=None,\n",
       "                              min_child_weight=None, missing=nan,\n",
       "                              monotone_constraints=None, multi_strategy=None,\n",
       "                              n_estimators=500, n_jobs=None,\n",
       "                              num_parallel_tree=None, random_state=42, ...))])"
      ]
     },
     "execution_count": 318,
     "metadata": {},
     "output_type": "execute_result"
    }
   ],
   "source": [
    "pipe3.fit(X_train_scaled,y_train)"
   ]
  },
  {
   "cell_type": "code",
   "execution_count": 319,
   "metadata": {
    "execution": {
     "iopub.execute_input": "2024-12-19T08:40:41.834810Z",
     "iopub.status.busy": "2024-12-19T08:40:41.834440Z",
     "iopub.status.idle": "2024-12-19T08:40:42.007992Z",
     "shell.execute_reply": "2024-12-19T08:40:42.006868Z",
     "shell.execute_reply.started": "2024-12-19T08:40:41.834775Z"
    },
    "trusted": true
   },
   "outputs": [
    {
     "data": {
      "text/html": [
       "<style>#sk-container-id-25 {color: black;background-color: white;}#sk-container-id-25 pre{padding: 0;}#sk-container-id-25 div.sk-toggleable {background-color: white;}#sk-container-id-25 label.sk-toggleable__label {cursor: pointer;display: block;width: 100%;margin-bottom: 0;padding: 0.3em;box-sizing: border-box;text-align: center;}#sk-container-id-25 label.sk-toggleable__label-arrow:before {content: \"▸\";float: left;margin-right: 0.25em;color: #696969;}#sk-container-id-25 label.sk-toggleable__label-arrow:hover:before {color: black;}#sk-container-id-25 div.sk-estimator:hover label.sk-toggleable__label-arrow:before {color: black;}#sk-container-id-25 div.sk-toggleable__content {max-height: 0;max-width: 0;overflow: hidden;text-align: left;background-color: #f0f8ff;}#sk-container-id-25 div.sk-toggleable__content pre {margin: 0.2em;color: black;border-radius: 0.25em;background-color: #f0f8ff;}#sk-container-id-25 input.sk-toggleable__control:checked~div.sk-toggleable__content {max-height: 200px;max-width: 100%;overflow: auto;}#sk-container-id-25 input.sk-toggleable__control:checked~label.sk-toggleable__label-arrow:before {content: \"▾\";}#sk-container-id-25 div.sk-estimator input.sk-toggleable__control:checked~label.sk-toggleable__label {background-color: #d4ebff;}#sk-container-id-25 div.sk-label input.sk-toggleable__control:checked~label.sk-toggleable__label {background-color: #d4ebff;}#sk-container-id-25 input.sk-hidden--visually {border: 0;clip: rect(1px 1px 1px 1px);clip: rect(1px, 1px, 1px, 1px);height: 1px;margin: -1px;overflow: hidden;padding: 0;position: absolute;width: 1px;}#sk-container-id-25 div.sk-estimator {font-family: monospace;background-color: #f0f8ff;border: 1px dotted black;border-radius: 0.25em;box-sizing: border-box;margin-bottom: 0.5em;}#sk-container-id-25 div.sk-estimator:hover {background-color: #d4ebff;}#sk-container-id-25 div.sk-parallel-item::after {content: \"\";width: 100%;border-bottom: 1px solid gray;flex-grow: 1;}#sk-container-id-25 div.sk-label:hover label.sk-toggleable__label {background-color: #d4ebff;}#sk-container-id-25 div.sk-serial::before {content: \"\";position: absolute;border-left: 1px solid gray;box-sizing: border-box;top: 0;bottom: 0;left: 50%;z-index: 0;}#sk-container-id-25 div.sk-serial {display: flex;flex-direction: column;align-items: center;background-color: white;padding-right: 0.2em;padding-left: 0.2em;position: relative;}#sk-container-id-25 div.sk-item {position: relative;z-index: 1;}#sk-container-id-25 div.sk-parallel {display: flex;align-items: stretch;justify-content: center;background-color: white;position: relative;}#sk-container-id-25 div.sk-item::before, #sk-container-id-25 div.sk-parallel-item::before {content: \"\";position: absolute;border-left: 1px solid gray;box-sizing: border-box;top: 0;bottom: 0;left: 50%;z-index: -1;}#sk-container-id-25 div.sk-parallel-item {display: flex;flex-direction: column;z-index: 1;position: relative;background-color: white;}#sk-container-id-25 div.sk-parallel-item:first-child::after {align-self: flex-end;width: 50%;}#sk-container-id-25 div.sk-parallel-item:last-child::after {align-self: flex-start;width: 50%;}#sk-container-id-25 div.sk-parallel-item:only-child::after {width: 0;}#sk-container-id-25 div.sk-dashed-wrapped {border: 1px dashed gray;margin: 0 0.4em 0.5em 0.4em;box-sizing: border-box;padding-bottom: 0.4em;background-color: white;}#sk-container-id-25 div.sk-label label {font-family: monospace;font-weight: bold;display: inline-block;line-height: 1.2em;}#sk-container-id-25 div.sk-label-container {text-align: center;}#sk-container-id-25 div.sk-container {/* jupyter's `normalize.less` sets `[hidden] { display: none; }` but bootstrap.min.css set `[hidden] { display: none !important; }` so we also need the `!important` here to be able to override the default hidden behavior on the sphinx rendered scikit-learn.org. See: https://github.com/scikit-learn/scikit-learn/issues/21755 */display: inline-block !important;position: relative;}#sk-container-id-25 div.sk-text-repr-fallback {display: none;}</style><div id=\"sk-container-id-25\" class=\"sk-top-container\"><div class=\"sk-text-repr-fallback\"><pre>Pipeline(steps=[(&#x27;br&#x27;, BayesianRidge())])</pre><b>In a Jupyter environment, please rerun this cell to show the HTML representation or trust the notebook. <br />On GitHub, the HTML representation is unable to render, please try loading this page with nbviewer.org.</b></div><div class=\"sk-container\" hidden><div class=\"sk-item sk-dashed-wrapped\"><div class=\"sk-label-container\"><div class=\"sk-label sk-toggleable\"><input class=\"sk-toggleable__control sk-hidden--visually\" id=\"sk-estimator-id-40\" type=\"checkbox\" ><label for=\"sk-estimator-id-40\" class=\"sk-toggleable__label sk-toggleable__label-arrow\">Pipeline</label><div class=\"sk-toggleable__content\"><pre>Pipeline(steps=[(&#x27;br&#x27;, BayesianRidge())])</pre></div></div></div><div class=\"sk-serial\"><div class=\"sk-item\"><div class=\"sk-estimator sk-toggleable\"><input class=\"sk-toggleable__control sk-hidden--visually\" id=\"sk-estimator-id-41\" type=\"checkbox\" ><label for=\"sk-estimator-id-41\" class=\"sk-toggleable__label sk-toggleable__label-arrow\">BayesianRidge</label><div class=\"sk-toggleable__content\"><pre>BayesianRidge()</pre></div></div></div></div></div></div></div>"
      ],
      "text/plain": [
       "Pipeline(steps=[('br', BayesianRidge())])"
      ]
     },
     "execution_count": 319,
     "metadata": {},
     "output_type": "execute_result"
    }
   ],
   "source": [
    "pipe4.fit(X_train_scaled,y_train)"
   ]
  },
  {
   "cell_type": "markdown",
   "metadata": {},
   "source": [
    "# Model Prediction"
   ]
  },
  {
   "cell_type": "code",
   "execution_count": 320,
   "metadata": {
    "execution": {
     "iopub.execute_input": "2024-12-19T08:40:42.012364Z",
     "iopub.status.busy": "2024-12-19T08:40:42.009353Z",
     "iopub.status.idle": "2024-12-19T08:40:42.184419Z",
     "shell.execute_reply": "2024-12-19T08:40:42.183158Z",
     "shell.execute_reply.started": "2024-12-19T08:40:42.012282Z"
    },
    "trusted": true
   },
   "outputs": [],
   "source": [
    "linear_regression=pipe1.predict(X_test_scaled)\n",
    "Randomforest=pipe2.predict(X_test_scaled)\n",
    "xgboost=pipe3.predict(X_test_scaled)\n",
    "bayesianridge=pipe4.predict(X_test_scaled)\n"
   ]
  },
  {
   "cell_type": "markdown",
   "metadata": {},
   "source": [
    "# Linear Regression  Model"
   ]
  },
  {
   "cell_type": "code",
   "execution_count": 321,
   "metadata": {
    "execution": {
     "iopub.execute_input": "2024-12-19T08:40:42.187050Z",
     "iopub.status.busy": "2024-12-19T08:40:42.186376Z",
     "iopub.status.idle": "2024-12-19T08:40:42.198940Z",
     "shell.execute_reply": "2024-12-19T08:40:42.197551Z",
     "shell.execute_reply.started": "2024-12-19T08:40:42.186984Z"
    },
    "trusted": true
   },
   "outputs": [
    {
     "name": "stdout",
     "output_type": "stream",
     "text": [
      "Mean Squared Error :  146.59778835491048\n",
      "R-square 0.6579591093798236\n"
     ]
    }
   ],
   "source": [
    "mse = mean_squared_error(y_test, linear_regression)\n",
    "r2 = r2_score(y_test, linear_regression)\n",
    "print(\"Mean Squared Error : \",mse)\n",
    "print('R-square',r2)"
   ]
  },
  {
   "cell_type": "markdown",
   "metadata": {},
   "source": [
    "# Random Forest Model"
   ]
  },
  {
   "cell_type": "code",
   "execution_count": 322,
   "metadata": {
    "execution": {
     "iopub.execute_input": "2024-12-19T08:40:42.202497Z",
     "iopub.status.busy": "2024-12-19T08:40:42.200756Z",
     "iopub.status.idle": "2024-12-19T08:40:42.223450Z",
     "shell.execute_reply": "2024-12-19T08:40:42.218865Z",
     "shell.execute_reply.started": "2024-12-19T08:40:42.202441Z"
    },
    "trusted": true
   },
   "outputs": [
    {
     "name": "stdout",
     "output_type": "stream",
     "text": [
      "Mean Squared Error :  62.71772780395852\n",
      "R-square 0.8536674549018105\n"
     ]
    }
   ],
   "source": [
    "mse = mean_squared_error(y_test, Randomforest)\n",
    "r2 = r2_score(y_test, Randomforest)\n",
    "print(\"Mean Squared Error : \",mse)\n",
    "print('R-square',r2)"
   ]
  },
  {
   "cell_type": "markdown",
   "metadata": {},
   "source": [
    "# XGBRegressor Model"
   ]
  },
  {
   "cell_type": "code",
   "execution_count": 324,
   "metadata": {
    "execution": {
     "iopub.execute_input": "2024-12-19T08:40:42.583297Z",
     "iopub.status.busy": "2024-12-19T08:40:42.582972Z",
     "iopub.status.idle": "2024-12-19T08:40:42.591660Z",
     "shell.execute_reply": "2024-12-19T08:40:42.590184Z",
     "shell.execute_reply.started": "2024-12-19T08:40:42.583266Z"
    },
    "trusted": true
   },
   "outputs": [
    {
     "name": "stdout",
     "output_type": "stream",
     "text": [
      "Mean Squared Error :  60.55841265865454\n",
      "R-square 0.8587055532504796\n"
     ]
    }
   ],
   "source": [
    "mse = mean_squared_error(y_test, xgboost)\n",
    "r2 = r2_score(y_test, xgboost)\n",
    "print(\"Mean Squared Error : \",mse)\n",
    "print('R-square',r2)"
   ]
  },
  {
   "cell_type": "markdown",
   "metadata": {},
   "source": [
    "# Bayesian Regression"
   ]
  },
  {
   "cell_type": "code",
   "execution_count": 326,
   "metadata": {
    "execution": {
     "iopub.execute_input": "2024-12-19T08:40:42.976118Z",
     "iopub.status.busy": "2024-12-19T08:40:42.975720Z",
     "iopub.status.idle": "2024-12-19T08:40:42.985070Z",
     "shell.execute_reply": "2024-12-19T08:40:42.983844Z",
     "shell.execute_reply.started": "2024-12-19T08:40:42.976081Z"
    },
    "trusted": true
   },
   "outputs": [
    {
     "name": "stdout",
     "output_type": "stream",
     "text": [
      "Mean Squared Error :  146.60548058214752\n",
      "R-square 0.6579411619313352\n"
     ]
    }
   ],
   "source": [
    "mse = mean_squared_error(y_test, bayesianridge)\n",
    "r2 = r2_score(y_test, bayesianridge)\n",
    "print(\"Mean Squared Error : \",mse)\n",
    "print('R-square',r2)"
   ]
  },
  {
   "cell_type": "markdown",
   "metadata": {},
   "source": [
    "# Model Evaluation Results\n",
    "\n",
    "| Model               | Mean Squared Error (MSE) | R-squared (R²) |\n",
    "|---------------------|--------------------------|----------------|\n",
    "| **Random Forest**    | 62.47                    | 0.8542         |\n",
    "| **XGBoost**          | 60.56                    | 0.8587         |\n",
    "| **Bayesian Regression** | 146.61               | 0.6579         |\n",
    "| **Linear Regression** | 146.60                  | 0.65796        |\n",
    "\n",
    "### Conclusion:\n",
    "- **XGBoost** Performs well  with the highest R² score (85.87%) and the lowest MSE (60.56). It provides the most accurate predictions among the four models.\n",
    "- **Random Forest** also performs well, but slightly worse than XGBoost.\n",
    "- **Linear Regression** and **Bayesian Regression** show similar performance with lower R² (around 0.6579) and higher MSE (146.6), indicating they perform poorly compared to the other models.\n"
   ]
  }
 ],
 "metadata": {
  "kaggle": {
   "accelerator": "none",
   "dataSources": [
    {
     "datasetId": 6315751,
     "sourceId": 10217394,
     "sourceType": "datasetVersion"
    }
   ],
   "dockerImageVersionId": 30804,
   "isGpuEnabled": false,
   "isInternetEnabled": true,
   "language": "python",
   "sourceType": "notebook"
  },
  "kernelspec": {
   "display_name": "Python 3",
   "language": "python",
   "name": "python3"
  },
  "language_info": {
   "codemirror_mode": {
    "name": "ipython",
    "version": 3
   },
   "file_extension": ".py",
   "mimetype": "text/x-python",
   "name": "python",
   "nbconvert_exporter": "python",
   "pygments_lexer": "ipython3",
   "version": "3.10.14"
  }
 },
 "nbformat": 4,
 "nbformat_minor": 4
}
